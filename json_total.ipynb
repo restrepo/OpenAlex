{
  "nbformat": 4,
  "nbformat_minor": 0,
  "metadata": {
    "colab": {
      "provenance": [],
      "include_colab_link": true
    },
    "kernelspec": {
      "name": "python3",
      "display_name": "Python 3"
    },
    "language_info": {
      "name": "python"
    }
  },
  "cells": [
    {
      "cell_type": "markdown",
      "metadata": {
        "id": "view-in-github",
        "colab_type": "text"
      },
      "source": [
        "<a href=\"https://colab.research.google.com/github/restrepo/OpenAlex/blob/main/json_total.ipynb\" target=\"_parent\"><img src=\"https://colab.research.google.com/assets/colab-badge.svg\" alt=\"Open In Colab\"/></a>"
      ]
    },
    {
      "cell_type": "markdown",
      "source": [
        "# OpenAlex works for Colombia\n",
        "## Concepts associated to \"Physics\" in UdeA"
      ],
      "metadata": {
        "id": "RSROz3TFuJ23"
      }
    },
    {
      "cell_type": "code",
      "execution_count": 1,
      "metadata": {
        "id": "-RbQDK_OnSpc"
      },
      "outputs": [],
      "source": [
        "import json\n",
        "import pandas as pd\n",
        "from google.colab import files\n",
        "#From https://gist.github.com/korakot/072f1ea70d3c3267ff2c64b61d78c89c\n",
        "import json\n",
        "from IPython.display import HTML\n",
        "\n",
        "def JSON(jstr):\n",
        "  if type(jstr) != str:\n",
        "    jstr = json.dumps(jstr)\n",
        "  return HTML(\"\"\"\n",
        "<script src=\"https://rawgit.com/caldwell/renderjson/master/renderjson.js\"></script>\n",
        "<script>\n",
        "renderjson.set_show_to_level(1)\n",
        "document.body.appendChild(renderjson(%s))\n",
        "new ResizeObserver(google.colab.output.resizeIframeToContent).observe(document.body)\n",
        "</script>\n",
        "\"\"\" % jstr)"
      ]
    },
    {
      "cell_type": "markdown",
      "source": [
        "### Load the json file of works for Colombia"
      ],
      "metadata": {
        "id": "TprrS4sFusjo"
      }
    },
    {
      "cell_type": "code",
      "source": [
        "from google.colab import drive\n",
        "drive.mount('/content/drive')"
      ],
      "metadata": {
        "colab": {
          "base_uri": "https://localhost:8080/"
        },
        "id": "7vmypO1blTHY",
        "outputId": "e8844e00-7dd9-433d-ccc6-7ac3139ba9a8"
      },
      "execution_count": 2,
      "outputs": [
        {
          "output_type": "stream",
          "name": "stdout",
          "text": [
            "Drive already mounted at /content/drive; to attempt to forcibly remount, call drive.mount(\"/content/drive\", force_remount=True).\n"
          ]
        }
      ]
    },
    {
      "cell_type": "code",
      "source": [
        "with open('/content/drive/MyDrive/json/openalexco.json','r') as miarchivo:\n",
        "    objeto=miarchivo.read()\n",
        "objeto=json.loads(objeto)"
      ],
      "metadata": {
        "id": "7R1pvevHlXqY"
      },
      "execution_count": 3,
      "outputs": []
    },
    {
      "cell_type": "code",
      "source": [
        "len(objeto)"
      ],
      "metadata": {
        "id": "z_f4GsI5EmcO",
        "outputId": "32007707-ce80-4d51-a0e7-b8d3bf3b8010",
        "colab": {
          "base_uri": "https://localhost:8080/"
        }
      },
      "execution_count": 4,
      "outputs": [
        {
          "output_type": "execute_result",
          "data": {
            "text/plain": [
              "343057"
            ]
          },
          "metadata": {},
          "execution_count": 4
        }
      ]
    },
    {
      "cell_type": "markdown",
      "source": [
        "Filter works with ror:\n",
        "\n",
        "https://ror.org/03bp5hc83"
      ],
      "metadata": {
        "id": "-2DO-bIu4cxL"
      }
    },
    {
      "cell_type": "code",
      "source": [
        "objeto=[ c for c in objeto if any(\n",
        "    [ any([i.get('ror')==\"https://ror.org/03bp5hc83\" for i in a.get('institutions')]) \n",
        "    for a in c.get('authorships')])\n",
        "]\n",
        "len(objeto)"
      ],
      "metadata": {
        "id": "4Hbuh0Ei4l3_",
        "colab": {
          "base_uri": "https://localhost:8080/"
        },
        "outputId": "b0e58cac-cdb0-4133-da55-9dea3614add1"
      },
      "execution_count": 5,
      "outputs": [
        {
          "output_type": "execute_result",
          "data": {
            "text/plain": [
              "34291"
            ]
          },
          "metadata": {},
          "execution_count": 5
        }
      ]
    },
    {
      "cell_type": "markdown",
      "source": [
        "Define the filter which returns `True or False`"
      ],
      "metadata": {
        "id": "ggYrli-ik5nF"
      }
    },
    {
      "cell_type": "code",
      "source": [
        "def filter_ror(authorships,ror=\"https://ror.org/03bp5hc83\"):\n",
        "  return any([any([i.get('ror')==\"https://ror.org/03bp5hc83\" for i in a.get('institutions')])  for a in authorships])"
      ],
      "metadata": {
        "id": "WSKHbM-imfwP"
      },
      "execution_count": null,
      "outputs": []
    },
    {
      "cell_type": "code",
      "source": [
        "len([ c for c in objeto if filter_ror(c.get('authorships'))])"
      ],
      "metadata": {
        "colab": {
          "base_uri": "https://localhost:8080/"
        },
        "id": "b6Vaq9L8cQ_d",
        "outputId": "61580957-8f06-4928-fa87-166812f42fa1"
      },
      "execution_count": null,
      "outputs": [
        {
          "output_type": "execute_result",
          "data": {
            "text/plain": [
              "34291"
            ]
          },
          "metadata": {},
          "execution_count": 6
        }
      ]
    },
    {
      "cell_type": "markdown",
      "source": [
        "Filter with Pandas"
      ],
      "metadata": {
        "id": "5n2VScjjFPRq"
      }
    },
    {
      "cell_type": "code",
      "source": [
        "objeto=pd.DataFrame(objeto)"
      ],
      "metadata": {
        "id": "F4suin_UnRR9"
      },
      "execution_count": 6,
      "outputs": []
    },
    {
      "cell_type": "code",
      "source": [
        "objeto[objeto['authorships'].apply(filter_ror)].shape"
      ],
      "metadata": {
        "colab": {
          "base_uri": "https://localhost:8080/"
        },
        "id": "axE4HRe9FWJN",
        "outputId": "f88cb55e-dbee-4df6-b1d5-b80083f63098"
      },
      "execution_count": null,
      "outputs": [
        {
          "output_type": "execute_result",
          "data": {
            "text/plain": [
              "(34291, 25)"
            ]
          },
          "metadata": {},
          "execution_count": 8
        }
      ]
    },
    {
      "cell_type": "markdown",
      "source": [
        "### Explore concept levels from Excel file"
      ],
      "metadata": {
        "id": "Qlq2rGOidXkB"
      }
    },
    {
      "cell_type": "code",
      "source": [
        "cp=pd.read_excel('https://docs.google.com/spreadsheets/d/e/2PACX-1vT9JrvUwanM-z-hCZ1SSaxRx2wfzLV3RVvm5BJaf8TABBmpIwKt7iYt1sVLbImVevh9YNaZK9Y7sfI9/pub?output=xlsx')"
      ],
      "metadata": {
        "id": "FYi66eYGHO0a"
      },
      "execution_count": null,
      "outputs": []
    },
    {
      "cell_type": "code",
      "source": [
        "cp[cp['display_name'].str.lower().str.contains('complex')][:3]#['display_name']#.to_list()"
      ],
      "metadata": {
        "id": "6aPPvpga7_bL",
        "outputId": "8c3cf0f3-1886-4ce6-e0ed-4143e83e241a",
        "colab": {
          "base_uri": "https://localhost:8080/",
          "height": 143
        }
      },
      "execution_count": null,
      "outputs": [
        {
          "output_type": "execute_result",
          "data": {
            "text/plain": [
              "                           openalex_id       display_name    normalized_name  \\\n",
              "377     https://openalex.org/c34947359    Complex network    complex network   \n",
              "1241  https://openalex.org/c2778445095  Sample complexity  sample complexity   \n",
              "2527    https://openalex.org/c47822265     Complex system    complex systems   \n",
              "\n",
              "      level                              wikidata_id  \\\n",
              "377     2.0    https://www.wikidata.org/wiki/Q665189   \n",
              "1241    2.0  https://www.wikidata.org/wiki/Q18354077   \n",
              "2527    2.0    https://www.wikidata.org/wiki/Q854457   \n",
              "\n",
              "                         parent_display_names  \\\n",
              "377             Combinatorics, World Wide Web   \n",
              "1241                                      NaN   \n",
              "2527  Artificial intelligence, Social science   \n",
              "\n",
              "                                             parent_ids  \n",
              "377   https://openalex.org/C114614502, https://opena...  \n",
              "1241                                                NaN  \n",
              "2527  https://openalex.org/C154945302, https://opena...  "
            ],
            "text/html": [
              "\n",
              "  <div id=\"df-94ce62fb-d332-4b7f-a36c-a6bf9ab5d0dd\">\n",
              "    <div class=\"colab-df-container\">\n",
              "      <div>\n",
              "<style scoped>\n",
              "    .dataframe tbody tr th:only-of-type {\n",
              "        vertical-align: middle;\n",
              "    }\n",
              "\n",
              "    .dataframe tbody tr th {\n",
              "        vertical-align: top;\n",
              "    }\n",
              "\n",
              "    .dataframe thead th {\n",
              "        text-align: right;\n",
              "    }\n",
              "</style>\n",
              "<table border=\"1\" class=\"dataframe\">\n",
              "  <thead>\n",
              "    <tr style=\"text-align: right;\">\n",
              "      <th></th>\n",
              "      <th>openalex_id</th>\n",
              "      <th>display_name</th>\n",
              "      <th>normalized_name</th>\n",
              "      <th>level</th>\n",
              "      <th>wikidata_id</th>\n",
              "      <th>parent_display_names</th>\n",
              "      <th>parent_ids</th>\n",
              "    </tr>\n",
              "  </thead>\n",
              "  <tbody>\n",
              "    <tr>\n",
              "      <th>377</th>\n",
              "      <td>https://openalex.org/c34947359</td>\n",
              "      <td>Complex network</td>\n",
              "      <td>complex network</td>\n",
              "      <td>2.0</td>\n",
              "      <td>https://www.wikidata.org/wiki/Q665189</td>\n",
              "      <td>Combinatorics, World Wide Web</td>\n",
              "      <td>https://openalex.org/C114614502, https://opena...</td>\n",
              "    </tr>\n",
              "    <tr>\n",
              "      <th>1241</th>\n",
              "      <td>https://openalex.org/c2778445095</td>\n",
              "      <td>Sample complexity</td>\n",
              "      <td>sample complexity</td>\n",
              "      <td>2.0</td>\n",
              "      <td>https://www.wikidata.org/wiki/Q18354077</td>\n",
              "      <td>NaN</td>\n",
              "      <td>NaN</td>\n",
              "    </tr>\n",
              "    <tr>\n",
              "      <th>2527</th>\n",
              "      <td>https://openalex.org/c47822265</td>\n",
              "      <td>Complex system</td>\n",
              "      <td>complex systems</td>\n",
              "      <td>2.0</td>\n",
              "      <td>https://www.wikidata.org/wiki/Q854457</td>\n",
              "      <td>Artificial intelligence, Social science</td>\n",
              "      <td>https://openalex.org/C154945302, https://opena...</td>\n",
              "    </tr>\n",
              "  </tbody>\n",
              "</table>\n",
              "</div>\n",
              "      <button class=\"colab-df-convert\" onclick=\"convertToInteractive('df-94ce62fb-d332-4b7f-a36c-a6bf9ab5d0dd')\"\n",
              "              title=\"Convert this dataframe to an interactive table.\"\n",
              "              style=\"display:none;\">\n",
              "        \n",
              "  <svg xmlns=\"http://www.w3.org/2000/svg\" height=\"24px\"viewBox=\"0 0 24 24\"\n",
              "       width=\"24px\">\n",
              "    <path d=\"M0 0h24v24H0V0z\" fill=\"none\"/>\n",
              "    <path d=\"M18.56 5.44l.94 2.06.94-2.06 2.06-.94-2.06-.94-.94-2.06-.94 2.06-2.06.94zm-11 1L8.5 8.5l.94-2.06 2.06-.94-2.06-.94L8.5 2.5l-.94 2.06-2.06.94zm10 10l.94 2.06.94-2.06 2.06-.94-2.06-.94-.94-2.06-.94 2.06-2.06.94z\"/><path d=\"M17.41 7.96l-1.37-1.37c-.4-.4-.92-.59-1.43-.59-.52 0-1.04.2-1.43.59L10.3 9.45l-7.72 7.72c-.78.78-.78 2.05 0 2.83L4 21.41c.39.39.9.59 1.41.59.51 0 1.02-.2 1.41-.59l7.78-7.78 2.81-2.81c.8-.78.8-2.07 0-2.86zM5.41 20L4 18.59l7.72-7.72 1.47 1.35L5.41 20z\"/>\n",
              "  </svg>\n",
              "      </button>\n",
              "      \n",
              "  <style>\n",
              "    .colab-df-container {\n",
              "      display:flex;\n",
              "      flex-wrap:wrap;\n",
              "      gap: 12px;\n",
              "    }\n",
              "\n",
              "    .colab-df-convert {\n",
              "      background-color: #E8F0FE;\n",
              "      border: none;\n",
              "      border-radius: 50%;\n",
              "      cursor: pointer;\n",
              "      display: none;\n",
              "      fill: #1967D2;\n",
              "      height: 32px;\n",
              "      padding: 0 0 0 0;\n",
              "      width: 32px;\n",
              "    }\n",
              "\n",
              "    .colab-df-convert:hover {\n",
              "      background-color: #E2EBFA;\n",
              "      box-shadow: 0px 1px 2px rgba(60, 64, 67, 0.3), 0px 1px 3px 1px rgba(60, 64, 67, 0.15);\n",
              "      fill: #174EA6;\n",
              "    }\n",
              "\n",
              "    [theme=dark] .colab-df-convert {\n",
              "      background-color: #3B4455;\n",
              "      fill: #D2E3FC;\n",
              "    }\n",
              "\n",
              "    [theme=dark] .colab-df-convert:hover {\n",
              "      background-color: #434B5C;\n",
              "      box-shadow: 0px 1px 3px 1px rgba(0, 0, 0, 0.15);\n",
              "      filter: drop-shadow(0px 1px 2px rgba(0, 0, 0, 0.3));\n",
              "      fill: #FFFFFF;\n",
              "    }\n",
              "  </style>\n",
              "\n",
              "      <script>\n",
              "        const buttonEl =\n",
              "          document.querySelector('#df-94ce62fb-d332-4b7f-a36c-a6bf9ab5d0dd button.colab-df-convert');\n",
              "        buttonEl.style.display =\n",
              "          google.colab.kernel.accessAllowed ? 'block' : 'none';\n",
              "\n",
              "        async function convertToInteractive(key) {\n",
              "          const element = document.querySelector('#df-94ce62fb-d332-4b7f-a36c-a6bf9ab5d0dd');\n",
              "          const dataTable =\n",
              "            await google.colab.kernel.invokeFunction('convertToInteractive',\n",
              "                                                     [key], {});\n",
              "          if (!dataTable) return;\n",
              "\n",
              "          const docLinkHtml = 'Like what you see? Visit the ' +\n",
              "            '<a target=\"_blank\" href=https://colab.research.google.com/notebooks/data_table.ipynb>data table notebook</a>'\n",
              "            + ' to learn more about interactive tables.';\n",
              "          element.innerHTML = '';\n",
              "          dataTable['output_type'] = 'display_data';\n",
              "          await google.colab.output.renderOutput(dataTable, element);\n",
              "          const docLink = document.createElement('div');\n",
              "          docLink.innerHTML = docLinkHtml;\n",
              "          element.appendChild(docLink);\n",
              "        }\n",
              "      </script>\n",
              "    </div>\n",
              "  </div>\n",
              "  "
            ]
          },
          "metadata": {},
          "execution_count": 37
        }
      ]
    },
    {
      "cell_type": "markdown",
      "source": [
        "#### Level 1: Physics concepts\n",
        "The 'parent_display_names' column has some `NaN`, which is a `float`, and therefore must be converted to `str`, before the string operations to avoid errors. `Physics'` may appears along with other concepts in the `'parent_display_names'` and therefore the `str.contains` method of Pandas is the best option here:"
      ],
      "metadata": {
        "id": "LdaXumXYddIA"
      }
    },
    {
      "cell_type": "code",
      "source": [
        "ph1=cp[ (cp['level']==1) & (cp['parent_display_names'].astype(str).str.contains('Physics')) \n",
        "      ]['display_name'].to_list()"
      ],
      "metadata": {
        "id": "ErMIBGXBHpnj"
      },
      "execution_count": null,
      "outputs": []
    },
    {
      "cell_type": "code",
      "source": [
        "len(ph1)"
      ],
      "metadata": {
        "colab": {
          "base_uri": "https://localhost:8080/"
        },
        "id": "u6pkEHilJntf",
        "outputId": "7e053d0a-9274-4dc0-f36c-db4ab2664d84"
      },
      "execution_count": null,
      "outputs": [
        {
          "output_type": "execute_result",
          "data": {
            "text/plain": [
              "27"
            ]
          },
          "metadata": {},
          "execution_count": 4
        }
      ]
    },
    {
      "cell_type": "markdown",
      "source": [
        "#### Level 2: Physics concepts\n",
        "the `str.split` method of Pandas, conver the comma-space sepparated list into a Python list. Remember that the `set` object of Python has the `intersection` method directly"
      ],
      "metadata": {
        "id": "XWrkUyFtdkWp"
      }
    },
    {
      "cell_type": "code",
      "source": [
        "ph2=cp[(cp['level']==2) & (cp['parent_display_names'].astype(str).str.split(', ').apply(\n",
        "    lambda l: set(l).intersection(set(ph1))).apply(len)>0)]['display_name'].to_list()\n",
        "len(ph2)"
      ],
      "metadata": {
        "colab": {
          "base_uri": "https://localhost:8080/"
        },
        "id": "sVvbyDuFI-lT",
        "outputId": "3d56b26e-2596-426f-e577-bfefb00ec5f3"
      },
      "execution_count": null,
      "outputs": [
        {
          "output_type": "execute_result",
          "data": {
            "text/plain": [
              "2979"
            ]
          },
          "metadata": {},
          "execution_count": 5
        }
      ]
    },
    {
      "cell_type": "markdown",
      "source": [
        "### UdeA Physics articles"
      ],
      "metadata": {
        "id": "UGhSLHZLd7OD"
      }
    },
    {
      "cell_type": "code",
      "source": [
        "concept='Physics'\n",
        "level=0\n",
        "possible_physics=objeto[objeto['concepts'].apply(lambda l: {concept}.intersection( \n",
        "    [d.get('display_name') for d in l if d.get('level')==level])).apply(len)>0]\n",
        "possible_physics.shape\n"
      ],
      "metadata": {
        "colab": {
          "base_uri": "https://localhost:8080/"
        },
        "id": "y1M30oDsPH7J",
        "outputId": "4185ba39-8877-4fe6-a703-b3f279f743cd"
      },
      "execution_count": null,
      "outputs": [
        {
          "output_type": "execute_result",
          "data": {
            "text/plain": [
              "(1886, 25)"
            ]
          },
          "metadata": {},
          "execution_count": 41
        }
      ]
    },
    {
      "cell_type": "markdown",
      "source": [
        "Level 1: UdeA Physics concepts"
      ],
      "metadata": {
        "id": "Mv0amq8LeEsi"
      }
    },
    {
      "cell_type": "code",
      "source": [
        "ll=possible_physics['concepts'].apply(lambda l: set([d.get('display_name') for d in l if d.get('level')==1]).intersection(ph1)).apply(list)\n",
        "ph1_udea=set([item for subitem in ll for item in subitem])"
      ],
      "metadata": {
        "id": "Y6rdzp6TRqIL"
      },
      "execution_count": null,
      "outputs": []
    },
    {
      "cell_type": "markdown",
      "source": [
        "Missing Level 1 concepts at UdeA"
      ],
      "metadata": {
        "id": "JcKbUTgxpVdI"
      }
    },
    {
      "cell_type": "code",
      "source": [
        "set(ph1).difference(ph1_udea)"
      ],
      "metadata": {
        "colab": {
          "base_uri": "https://localhost:8080/"
        },
        "id": "jgFdTudFS78z",
        "outputId": "e6926e2e-ad05-4de5-fe9a-dd6bcaf27c2c"
      },
      "execution_count": null,
      "outputs": [
        {
          "output_type": "execute_result",
          "data": {
            "text/plain": [
              "{'Geophysics', 'Medical physics'}"
            ]
          },
          "metadata": {},
          "execution_count": 16
        }
      ]
    },
    {
      "cell_type": "markdown",
      "source": [
        "Level 2: UdeA Physics concepts"
      ],
      "metadata": {
        "id": "mxjkUxsAeLdL"
      }
    },
    {
      "cell_type": "code",
      "source": [
        "ll=possible_physics['concepts'].apply(lambda l: set([d.get('display_name') for d in l if d.get('level')==2]).intersection(ph2)).apply(list)\n",
        "ph2_udea=set([item for subitem in ll for item in subitem])"
      ],
      "metadata": {
        "id": "3tr1epPcTnoh"
      },
      "execution_count": null,
      "outputs": []
    },
    {
      "cell_type": "code",
      "source": [
        "len(ph2_udea)"
      ],
      "metadata": {
        "colab": {
          "base_uri": "https://localhost:8080/"
        },
        "id": "TalgtO9ZTsO5",
        "outputId": "994ff04e-dd2d-42f8-d8dc-23579adad230"
      },
      "execution_count": null,
      "outputs": [
        {
          "output_type": "execute_result",
          "data": {
            "text/plain": [
              "507"
            ]
          },
          "metadata": {},
          "execution_count": 22
        }
      ]
    },
    {
      "cell_type": "markdown",
      "source": [
        "### UdeA Physics concepts tree"
      ],
      "metadata": {
        "id": "abJlxAQ8eRjV"
      }
    },
    {
      "cell_type": "code",
      "source": [
        "d={'Physics': dict( [(c,[]) for c in ph1_udea])}\n",
        "for c in ph2_udea:\n",
        "    lph1=set(ph1_udea).intersection( cp[cp['display_name']==c]['parent_display_names'].str.split(', ').iloc[0])\n",
        "    for cc in lph1:\n",
        "        if cc in d['Physics'] and c not in d['Physics'][cc]:\n",
        "            d['Physics'][cc].append(c)\n",
        "del cp\n"
      ],
      "metadata": {
        "id": "aCimXtpyUoo9"
      },
      "execution_count": null,
      "outputs": []
    },
    {
      "cell_type": "code",
      "source": [
        "JSON(d)"
      ],
      "metadata": {
        "colab": {
          "base_uri": "https://localhost:8080/",
          "height": 520
        },
        "id": "o7V-XksVYpQo",
        "outputId": "3d8946dc-a78c-47e6-e5de-70848f4148e0"
      },
      "execution_count": null,
      "outputs": [
        {
          "output_type": "execute_result",
          "data": {
            "text/plain": [
              "<IPython.core.display.HTML object>"
            ],
            "text/html": [
              "\n",
              "<script src=\"https://rawgit.com/caldwell/renderjson/master/renderjson.js\"></script>\n",
              "<script>\n",
              "renderjson.set_show_to_level(1)\n",
              "document.body.appendChild(renderjson({\"Physics\": {\"Acoustics\": [\"Binaural recording\", \"Degree (music)\", \"Absorption (acoustics)\", \"Harmonic\", \"Piezoelectricity\", \"Lattice (music)\", \"Aperture (computer memory)\", \"Chromatic scale\", \"Modulation (music)\", \"Dynamics (music)\", \"Vibration\"], \"Statistical physics\": [\"Detailed balance\", \"Statistical mechanics\", \"Boltzmann distribution\", \"Ising model\", \"Autocatalytic reaction\", \"Langevin dynamics\", \"Homogeneous\"], \"Meteorology\": [\"Atmospheric pressure\", \"Meteor (satellite)\", \"Thermal\", \"Atmosphere (unit)\", \"Relative humidity\", \"Cirrus\", \"Visibility\", \"Bar (unit)\", \"Solar irradiance\", \"Turbulence\", \"Condensation\", \"Vortex\"], \"Thermodynamics\": [\"Compressibility\", \"Finite difference method\", \"Turbine\", \"Energy conversion efficiency\", \"Advection\", \"Detailed balance\", \"Thermal radiation\", \"Differential (mechanical device)\", \"Phase space\", \"Thermal conduction\", \"Thermal fluctuations\", \"Boltzmann equation\", \"Statistical mechanics\", \"Thermal\", \"Atmosphere (unit)\", \"Isobaric process\", \"Hydraulic head\", \"Relative humidity\", \"Finite element method\", \"Surface roughness\", \"Power (physics)\", \"Boltzmann constant\", \"Jet (fluid)\", \"Dissipation\", \"Helmholtz free energy\", \"Computational fluid dynamics\", \"Laminar flow\", \"High pressure\", \"Distribution function\", \"Circulation (fluid dynamics)\", \"Thermoelectric effect\", \"Entropy (arrow of time)\", \"Turbulence\", \"Hydrostatic pressure\", \"Work (physics)\", \"Thermal equilibrium\", \"Condensation\", \"Current (fluid)\", \"Phase transition\", \"Dissipative system\", \"Spin (aerodynamics)\", \"Vortex\", \"Energy landscape\", \"Equation of state\", \"Torque\", \"Thermalisation\", \"Diffusion\", \"Thermal conductivity\", \"Boltzmann distribution\", \"Carnot cycle\", \"Degrees of freedom (physics and chemistry)\", \"Component (thermodynamics)\", \"Adiabatic process\", \"Ignition system\", \"Euler equations\", \"Thermal diffusivity\", \"Shock wave\", \"Drag\", \"Diesel engine\", \"Dimensionless quantity\", \"Heat transfer\", \"Homogeneous\"], \"Astrobiology\": [\"Impact crater\", \"Asteroid\", \"Comet\", \"Copernicus\", \"Linea\", \"Meteoroid\", \"Solar System\", \"Meteorite\", \"Water ice\"], \"Astrophysics\": [\"Pulsar\", \"Event (particle physics)\", \"Planet\", \"Gamma ray\", \"Cosmic ray\", \"Fermi Gamma-ray Space Telescope\", \"Supernova\", \"Radio telescope\", \"Comet\", \"Eclipse\", \"Dark matter\", \"Galaxy\", \"Accretion (finance)\", \"Baryon\", \"Planck\", \"Density contrast\", \"Mass ratio\", \"Telescope\", \"Orbital elements\", \"Circular orbit\", \"Gravitational wave\", \"Universe\", \"Stars\", \"COSMIC cancer database\", \"Solar System\", \"Cosmology\", \"Light curve\", \"Occultation\", \"Celestial mechanics\", \"Gamma-ray burst\", \"Star (game theory)\", \"Millimeter\", \"Neutron star\", \"Maser\", \"Tidal force\", \"Magnitude (astronomy)\"], \"Nuclear magnetic resonance\": [\"Protein Data Bank (RCSB PDB)\", \"Vacancy defect\", \"Crystallographic defect\", \"Dimer\", \"Cryo-electron microscopy\", \"Stacking\"], \"Theoretical physics\": [\"Lagrangian\", \"Inflation (cosmology)\", \"Modern physics\", \"Energy density\", \"Extra dimensions\", \"General relativity\", \"Cosmological constant\"], \"Quantum mechanics\": [\"Proton\", \"Reduced mass\", \"Dispersion relation\", \"Band gap\", \"Dispersion (optics)\", \"Hysteresis\", \"Debye\", \"Flavour\", \"Phenomenon\", \"Bessel function\", \"Morse potential\", \"Doping\", \"Pulsar\", \"Fluorescence\", \"Covariant transformation\", \"Optical filter\", \"Parity (physics)\", \"Event (particle physics)\", \"Neutrino\", \"Advection\", \"Gaussian\", \"Electron\", \"Zero temperature\", \"Spectrometer\", \"Detailed balance\", \"Superconductivity\", \"Euler angles\", \"Impact parameter\", \"Fock space\", \"Partial differential equation\", \"Photon\", \"Density of states\", \"DC motor\", \"Metastability\", \"Inflation (cosmology)\", \"Geometric phase\", \"Voltage\", \"Thermal radiation\", \"Thin film\", \"Gamma ray\", \"Yukawa potential\", \"Modern physics\", \"Hydrogen\", \"Nuclear reaction\", \"Phase space\", \"Electromagnetic shielding\", \"Covalent bond\", \"Gravitation\", \"Quantum number\", \"Semiconductor\", \"Three-body problem\", \"Diffraction\", \"Quantum chromodynamics\", \"Metamaterial\", \"Dirac equation\", \"Electronic circuit\", \"Graphene\", \"Fourier transform\", \"Effective field theory\", \"Dynamical systems theory\", \"Thermal conduction\", \"Fermion\", \"Radiation\", \"Perturbation theory (quantum mechanics)\", \"Quantum\", \"Fermi Gamma-ray Space Telescope\", \"Collimator\", \"Thermal fluctuations\", \"Pair production\", \"Supernova\", \"Molecule\", \"Radio telescope\", \"Boltzmann equation\", \"Statistical mechanics\", \"Attenuation coefficient\", \"CP violation\", \"Potential energy\", \"Wave packet\", \"Optical engineering\", \"Resonance (particle physics)\", \"Circular symmetry\", \"Time evolution\", \"Meteor (satellite)\", \"Electronic structure\", \"Galaxy\", \"Binding energy\", \"Relativistic quantum chemistry\", \"Muon\", \"Perfect fluid\", \"Scalar potential\", \"Quantum optics\", \"Laser\", \"Irradiation\", \"Kinetic energy\", \"Observable\", \"Massless particle\", \"Lambda\", \"Scalar field\", \"Elementary particle\", \"Helicity\", \"Anharmonicity\", \"Harmonic\", \"Acceleration\", \"Charge carrier\", \"Nonlinear system\", \"Quadrupole\", \"Variational method\", \"Wave function\", \"Solid-state physics\", \"Photorefractive effect\", \"Boson\", \"Exciton\", \"Supersymmetry\", \"Planck\", \"Rainbow\", \"Quantum dot\", \"Spectrum (functional analysis)\", \"Universality (dynamical systems)\", \"Delocalized electron\", \"Intensity (physics)\", \"Electronic band structure\", \"Density contrast\", \"Paramagnetism\", \"Surface roughness\", \"Phase (matter)\", \"Collider\", \"Optical conductivity\", \"Perturbation (astronomy)\", \"Transmittance\", \"Orthonormal basis\", \"Hartree\", \"Special unitary group\", \"Anti-de Sitter space\", \"Power (physics)\", \"Boltzmann constant\", \"Dissipation\", \"Electrical impedance\", \"Degenerate energy levels\", \"Quantum field theory\", \"Electrical network\", \"Helmholtz free energy\", \"Large Hadron Collider\", \"Boundary value problem\", \"Diode\", \"Irradiance\", \"Energy flux\", \"Polar\", \"Mixing (physics)\", \"Superfluidity\", \"Electric field\", \"Position and momentum space\", \"Orbital elements\", \"Dichroism\", \"Inertia\", \"Chromophore\", \"Infrared\", \"Spatial light modulator\", \"Near and far field\", \"Nanocrystal\", \"Gravitational wave\", \"Wavefront\", \"Universe\", \"Excitation\", \"Bohr model\", \"Distribution function\", \"Dielectric\", \"Physics education\", \"Thermoelectric effect\", \"Entropy (arrow of time)\", \"Propagator\", \"Absorption spectroscopy\", \"Wave propagation\", \"Brewster\", \"Pion\", \"Coupling constant\", \"Light beam\", \"Monochromatic electromagnetic plane wave\", \"Weak interaction\", \"Ansatz\", \"Dipole\", \"Many-body theory\", \"Sigma\", \"Spectral line\", \"Group velocity\", \"Work (physics)\", \"Hydrostatic equilibrium\", \"Birefringence\", \"Thermal equilibrium\", \"Antiferromagnetism\", \"Amplitude\", \"Quark\", \"Neutron\", \"Wavelength\", \"Brillouin zone\", \"Observer (physics)\", \"Electromagnetic radiation\", \"Phase transition\", \"Random phase approximation\", \"Extra dimensions\", \"U-1\", \"Ground state\", \"Physical optics\", \"Conserved quantity\", \"Interferometry\", \"Spacetime\", \"Dissipative system\", \"Brownian motion\", \"Photonics\", \"Sunlight\", \"Hadron\", \"Dephasing\", \"Trajectory\", \"Physics beyond the Standard Model\", \"Equation of state\", \"Poisson's equation\", \"Torque\", \"Thermalisation\", \"Diffusion\", \"Pseudopotential\", \"Electric charge\", \"Angular velocity\", \"Beta decay\", \"Nitrogen\", \"Excited state\", \"Holography\", \"Conservation law\", \"Current density\", \"Ab initio\", \"Thermal conductivity\", \"Molecular dynamics\", \"Multipole expansion\", \"Recoil\", \"Angular momentum\", \"Cosmology\", \"Boltzmann distribution\", \"Plasma\", \"Impurity\", \"Scale invariance\", \"Asymmetry\", \"Gyroscope\", \"Eigenvalues and eigenvectors\", \"Transfer-matrix method (optics)\", \"Bubble chamber\", \"Quality (philosophy)\", \"Ising model\", \"Rigid body\", \"Valence (chemistry)\", \"Magnetic moment\", \"Nuclear structure\", \"Renormalization group\", \"Higgs boson\", \"Topological quantum number\", \"Inert\", \"Electrostatics\", \"Refractive index\", \"Magnetic susceptibility\", \"Vial\", \"Omega\", \"Superposition principle\", \"Plane wave\", \"Carnot cycle\", \"Annihilation\", \"Gamma-ray burst\", \"Isotope\", \"Refraction\", \"Terahertz radiation\", \"Full width at half maximum\", \"Bound state\", \"Test particle\", \"Degrees of freedom (physics and chemistry)\", \"Superlattice\", \"Term (time)\", \"Helium\", \"Ultraviolet\", \"Electromagnetic field\", \"Spectroscopy\", \"Plasmon\", \"Component (thermodynamics)\", \"Energy (signal processing)\", \"Charge (physics)\", \"Stator\", \"Acceptor\", \"Phonon\", \"Charm (quantum number)\", \"Nutation\", \"Invariant mass\", \"Drude model\", \"Anderson localization\", \"Neutron star\", \"Adiabatic process\", \"Photonic crystal\", \"Kinetics\", \"Tidal force\", \"Precession\", \"Einstein\", \"Unitarity\", \"Gauge theory\", \"Fermilab\", \"Euler equations\", \"Stationary state\", \"Electroweak interaction\", \"Anisotropy\", \"Ion\", \"Hyperfine structure\", \"Thermal diffusivity\", \"Electrical phenomena\", \"Electrical conductor\", \"Group (periodic table)\", \"Renormalization\", \"Ground\", \"Spatial frequency\", \"Anomaly (physics)\", \"Heterojunction\", \"Isotropy\", \"Rectangular potential barrier\", \"Density functional theory\", \"Action (physics)\", \"Geometrical optics\", \"Meson\", \"Quantum tunnelling\", \"Magnetic field\", \"Scattering\", \"Radiative transfer\", \"Exact solutions in general relativity\", \"Dimensionless quantity\", \"Scale (ratio)\", \"Langevin dynamics\", \"Cross section (physics)\", \"Opacity\", \"Vibration\", \"Heat transfer\", \"Calibration\", \"Symmetry breaking\", \"Kinematics\", \"Simultaneity\", \"Ferromagnetism\", \"Raman spectroscopy\", \"Coherence (philosophical gambling strategy)\", \"Instability\", \"Waveguide\"], \"Engineering physics\": [\"Energy density\", \"High pressure\", \"National laboratory\"], \"Computational physics\": [], \"Optics\": [\"Dispersion relation\", \"Dispersion (optics)\", \"Tomography\", \"Characterization (materials science)\", \"Integrated optics\", \"Bessel function\", \"Fluorescence\", \"Optical filter\", \"Depth of field\", \"Spectrometer\", \"Photon\", \"Absorption (acoustics)\", \"Diffraction\", \"Detector\", \"Metamaterial\", \"Core (optical fiber)\", \"Radiation\", \"Collimator\", \"Pupil\", \"Attenuation coefficient\", \"Optical engineering\", \"Liquid crystal\", \"Quantum optics\", \"Laser\", \"Lambda\", \"Astigmatism\", \"Monochromatic color\", \"Photoluminescence\", \"Photorefractive effect\", \"Brightness\", \"Presbyopia\", \"Rainbow\", \"Imaging phantom\", \"Optical materials\", \"Digital micromirror device\", \"Intensity (physics)\", \"Optical coherence tomography\", \"Frame rate\", \"Focus (optics)\", \"Transmittance\", \"Visibility\", \"Broadband\", \"Image resolution\", \"Irradiance\", \"Contrast (vision)\", \"Monocular vision\", \"Telescope\", \"Dichroism\", \"Infrared\", \"Spatial light modulator\", \"Near and far field\", \"Left handed\", \"Wavefront\", \"Absorption spectroscopy\", \"Wave propagation\", \"Brewster\", \"Light beam\", \"Monochromatic electromagnetic plane wave\", \"Group velocity\", \"Birefringence\", \"Luminescence\", \"Projector\", \"Amplitude\", \"Wavelength\", \"Brillouin zone\", \"Azimuth\", \"Gallium arsenide\", \"Light intensity\", \"Electromagnetic radiation\", \"Ghost imaging\", \"Physical optics\", \"Interferometry\", \"Achromatic lens\", \"Scanner\", \"Beam (structure)\", \"Photonics\", \"Sunlight\", \"Monocular\", \"Grating\", \"Field of view\", \"Holography\", \"Optical communication\", \"Electromagnetically induced transparency\", \"Binocular vision\", \"Streaking\", \"Extinction (optical mineralogy)\", \"Microscopy\", \"Transfer-matrix method (optics)\", \"Refractive index\", \"Pinhole (optics)\", \"Plane wave\", \"Polariton\", \"Resonator\", \"Refraction\", \"Terahertz radiation\", \"Full width at half maximum\", \"Light field\", \"Optical fiber\", \"Ultraviolet\", \"Plasmon\", \"Millimeter\", \"Drude model\", \"Maser\", \"Photonic crystal\", \"Anisotropy\", \"Microscope\", \"Chromatic scale\", \"Speckle pattern\", \"Orange (colour)\", \"Lens (geology)\", \"Flash (photography)\", \"Spatial frequency\", \"Isotropy\", \"Adaptive optics\", \"Slit\", \"Geometrical optics\", \"Scattering\", \"Radiative transfer\", \"Opacity\", \"Raman spectroscopy\", \"Waveguide\"], \"Nuclear physics\": [\"Proton\", \"Neutrino\", \"Electron\", \"Impact parameter\", \"Gamma ray\", \"Nuclear reaction\", \"Cosmic ray\", \"Radiation\", \"Pair production\", \"CP violation\", \"Binding energy\", \"Relativistic quantum chemistry\", \"Muon\", \"Irradiation\", \"Elementary particle\", \"Baryon\", \"Collider\", \"Large Hadron Collider\", \"Pion\", \"Quark\", \"Neutron\", \"Branching fraction\", \"Hadron\", \"Physics beyond the Standard Model\", \"Beta decay\", \"Excited state\", \"Recoil\", \"Plasma\", \"Bubble chamber\", \"Nuclear structure\", \"Annihilation\", \"Isotope\", \"Charm (quantum number)\", \"Invariant mass\", \"Fermilab\", \"Isospin\", \"Nucleon\", \"Meson\"], \"Condensed matter physics\": [\"Dispersion relation\", \"Band gap\", \"Hysteresis\", \"Debye\", \"Band bending\", \"Doping\", \"Zero temperature\", \"Quasicrystal\", \"Superconductivity\", \"Density of states\", \"Conductance\", \"Geometric phase\", \"Vacancy defect\", \"Fermi Gamma-ray Space Telescope\", \"Crystallographic defect\", \"Thermal fluctuations\", \"Liquid crystal\", \"Electronic structure\", \"Anharmonicity\", \"Charge carrier\", \"Solid-state physics\", \"Exciton\", \"Point reflection\", \"Universality (dynamical systems)\", \"Electronic band structure\", \"Paramagnetism\", \"Optical conductivity\", \"Quasiperiodic function\", \"Superfluidity\", \"Many-body theory\", \"Antiferromagnetism\", \"Brillouin zone\", \"Gallium arsenide\", \"Phase transition\", \"Random phase approximation\", \"Dephasing\", \"Spins\", \"Pseudopotential\", \"Ising model\", \"Magnetic moment\", \"Magnetic susceptibility\", \"Polariton\", \"Superlattice\", \"Acceptor\", \"Phonon\", \"Drude model\", \"Anderson localization\", \"Precession\", \"Anomaly (physics)\", \"Heterojunction\", \"Frustration\", \"Rectangular potential barrier\", \"Quantum tunnelling\", \"Ferromagnetism\"], \"Astronomy\": [\"Pulsar\", \"Impact crater\", \"History of astronomy\", \"Planet\", \"Asteroid\", \"Inflation (cosmology)\", \"Gravitation\", \"Three-body problem\", \"Cosmic ray\", \"Supernova\", \"Radio telescope\", \"Comet\", \"Eclipse\", \"Meteor (satellite)\", \"Dark matter\", \"Galaxy\", \"Brightness\", \"Planck\", \"Parallax\", \"Density contrast\", \"Perturbation (astronomy)\", \"Copernicus\", \"Delta\", \"Solar irradiance\", \"Energy flux\", \"Polar\", \"Telescope\", \"Orbital elements\", \"Circular orbit\", \"Solar eclipse\", \"Infrared\", \"Gravitational wave\", \"Universe\", \"Flattening\", \"Stars\", \"Sigma\", \"Spectral line\", \"Hydrostatic equilibrium\", \"Azimuth\", \"Constellation\", \"Horizon\", \"Interferometry\", \"Achromatic lens\", \"COSMIC cancer database\", \"Meteoroid\", \"Sunlight\", \"Trajectory\", \"Solar System\", \"Cosmology\", \"Light curve\", \"Occultation\", \"Celestial mechanics\", \"Gamma-ray burst\", \"Meteorite\", \"Term (time)\", \"Spectroscopy\", \"Nutation\", \"Millimeter\", \"Neutron star\", \"Maser\", \"Tidal force\", \"Precession\", \"Hyperfine structure\", \"Spacecraft\", \"Adaptive optics\", \"Magnitude (astronomy)\", \"Cross section (physics)\", \"Astronomer\"], \"Quantum electrodynamics\": [], \"Optoelectronics\": [\"Band gap\", \"Integrated optics\", \"Band bending\", \"Doping\", \"Optical filter\", \"Energy conversion efficiency\", \"Semiconductor\", \"Metamaterial\", \"Liquid crystal\", \"Charge carrier\", \"Photoluminescence\", \"Photorefractive effect\", \"Quantum dot\", \"Optical materials\", \"Transmittance\", \"Silicon\", \"Diode\", \"Spatial light modulator\", \"Dielectric\", \"Luminescence\", \"Cadmium telluride photovoltaics\", \"Wavelength\", \"Gallium arsenide\", \"Photonics\", \"Grating\", \"Optical communication\", \"Electromagnetically induced transparency\", \"Indium\", \"Transfer-matrix method (optics)\", \"Refractive index\", \"Polariton\", \"Resonator\", \"Terahertz radiation\", \"Full width at half maximum\", \"Superlattice\", \"Ultraviolet\", \"Plasmon\", \"Photonic crystal\", \"Heterojunction\", \"Rectangular potential barrier\", \"Quantum tunnelling\", \"Waveguide\"], \"Mathematical physics\": [\"Lagrangian\", \"Covariant transformation\", \"Dirac equation\", \"Isospectral\", \"Perfect fluid\", \"Scalar potential\", \"Massless particle\", \"Scalar field\", \"Supersymmetry\", \"Integrable system\", \"Special unitary group\", \"Anti-de Sitter space\", \"Quantum field theory\", \"Propagator\", \"Field equation\", \"Ansatz\", \"U-1\", \"Conserved quantity\", \"General relativity\", \"Renormalization group\", \"Noncommutative geometry\", \"Cosmological constant\", \"Einstein\", \"Gauge theory\", \"Renormalization\"], \"Particle physics\": [\"Flavour\", \"Parity (physics)\", \"Neutrino\", \"Yukawa potential\", \"Quantum chromodynamics\", \"Effective field theory\", \"Fermion\", \"Perturbation theory (quantum mechanics)\", \"Pair production\", \"CP violation\", \"Resonance (particle physics)\", \"Dark matter\", \"Muon\", \"Massless particle\", \"Elementary particle\", \"Helicity\", \"Baryon\", \"Boson\", \"Supersymmetry\", \"Collider\", \"Large Hadron Collider\", \"Pion\", \"Coupling constant\", \"Weak interaction\", \"Quark\", \"Extra dimensions\", \"U-1\", \"Branching fraction\", \"Hadron\", \"Physics beyond the Standard Model\", \"Asymmetry\", \"Bubble chamber\", \"Higgs boson\", \"Annihilation\", \"Bound state\", \"Charge (physics)\", \"Charm (quantum number)\", \"Invariant mass\", \"Unitarity\", \"Gauge theory\", \"Fermilab\", \"Electroweak interaction\", \"Isospin\", \"Nucleon\", \"Meson\", \"Symmetry breaking\"], \"Molecular physics\": [], \"Atomic physics\": [\"Reduced mass\", \"Morse potential\", \"Parity (physics)\", \"Impact parameter\", \"Nuclear reaction\", \"Quantum number\", \"Potential energy\", \"Wave packet\", \"Resonance (particle physics)\", \"Binding energy\", \"Relativistic quantum chemistry\", \"Quadrupole\", \"Wave function\", \"Hartree\", \"SHELL model\", \"Random phase approximation\", \"Ground state\", \"Branching fraction\", \"Thermalisation\", \"Pseudopotential\", \"Beta decay\", \"Excited state\", \"Electromagnetically induced transparency\", \"Recoil\", \"Nuclear structure\", \"Helium\", \"Hyperfine structure\", \"Isospin\", \"Nucleon\"], \"Mechanics\": [\"Compressibility\", \"Inviscid flow\", \"Jet (fluid)\", \"Computational fluid dynamics\", \"Laminar flow\", \"High pressure\", \"Circulation (fluid dynamics)\", \"Turbulence\", \"Hydrostatic pressure\", \"Rotational symmetry\", \"Vortex\", \"Computer simulation\", \"Shock wave\", \"Flow (mathematics)\", \"Drag\", \"Dimensionless quantity\", \"Heat transfer\", \"Instability\"], \"Chemical physics\": [], \"Classical mechanics\": [\"Reduced mass\", \"Gravitation\", \"Three-body problem\", \"Potential energy\", \"Circular symmetry\", \"Perfect fluid\", \"Scalar potential\", \"Kinetic energy\", \"Scalar field\", \"Acceleration\", \"Inviscid flow\", \"Anti-de Sitter space\", \"Circular orbit\", \"Inertia\", \"Field equation\", \"Monochromatic electromagnetic plane wave\", \"Conserved quantity\", \"General relativity\", \"Angular velocity\", \"Angular momentum\", \"Rigid body\", \"Celestial mechanics\", \"Test particle\", \"Cosmological constant\", \"Kinetics\", \"Einstein\", \"Motion (physics)\", \"Kinematics\", \"Simultaneity\"], \"Atmospheric sciences\": [\"Cirrus\", \"Solar irradiance\"]}}))\n",
              "new ResizeObserver(google.colab.output.resizeIframeToContent).observe(document.body)\n",
              "</script>\n"
            ]
          },
          "metadata": {},
          "execution_count": 25
        }
      ]
    },
    {
      "cell_type": "markdown",
      "source": [
        "### Generic filter"
      ],
      "metadata": {
        "id": "17NaQFc3vvir"
      }
    },
    {
      "cell_type": "code",
      "source": [
        "if isinstance(objeto,list):\n",
        "    objeto=pd.DataFrame(objeto)\n",
        "concept='Complex systems'\n",
        "level=2\n",
        "def filter_concept(df,concept,level):\n",
        "    return df[df['concepts'].apply(lambda l: {concept}.intersection( \n",
        "    [d.get('display_name') for d in l if d.get('level')==level])).apply(len)>0]"
      ],
      "metadata": {
        "id": "zfzuW39h-YvO"
      },
      "execution_count": null,
      "outputs": []
    },
    {
      "cell_type": "code",
      "source": [
        "filter_concept(objeto,concept,level)"
      ],
      "metadata": {
        "id": "XhSIo2zC_R7v",
        "outputId": "1ff8d843-c1b0-4096-c75c-aaf55b15388e",
        "colab": {
          "base_uri": "https://localhost:8080/",
          "height": 143
        }
      },
      "execution_count": null,
      "outputs": [
        {
          "output_type": "execute_result",
          "data": {
            "text/plain": [
              "Empty DataFrame\n",
              "Columns: [id, doi, title, display_name, publication_year, publication_date, ids, host_venue, type, open_access, authorships, cited_by_count, biblio, is_retracted, is_paratext, concepts, mesh, alternate_host_venues, referenced_works, related_works, cited_by_api_url, counts_by_year, updated_date, created_date, abstract_inverted_index]\n",
              "Index: []\n",
              "\n",
              "[0 rows x 25 columns]"
            ],
            "text/html": [
              "\n",
              "  <div id=\"df-9a12ef2b-44a3-49cf-9242-5e5874a80637\">\n",
              "    <div class=\"colab-df-container\">\n",
              "      <div>\n",
              "<style scoped>\n",
              "    .dataframe tbody tr th:only-of-type {\n",
              "        vertical-align: middle;\n",
              "    }\n",
              "\n",
              "    .dataframe tbody tr th {\n",
              "        vertical-align: top;\n",
              "    }\n",
              "\n",
              "    .dataframe thead th {\n",
              "        text-align: right;\n",
              "    }\n",
              "</style>\n",
              "<table border=\"1\" class=\"dataframe\">\n",
              "  <thead>\n",
              "    <tr style=\"text-align: right;\">\n",
              "      <th></th>\n",
              "      <th>id</th>\n",
              "      <th>doi</th>\n",
              "      <th>title</th>\n",
              "      <th>display_name</th>\n",
              "      <th>publication_year</th>\n",
              "      <th>publication_date</th>\n",
              "      <th>ids</th>\n",
              "      <th>host_venue</th>\n",
              "      <th>type</th>\n",
              "      <th>open_access</th>\n",
              "      <th>...</th>\n",
              "      <th>concepts</th>\n",
              "      <th>mesh</th>\n",
              "      <th>alternate_host_venues</th>\n",
              "      <th>referenced_works</th>\n",
              "      <th>related_works</th>\n",
              "      <th>cited_by_api_url</th>\n",
              "      <th>counts_by_year</th>\n",
              "      <th>updated_date</th>\n",
              "      <th>created_date</th>\n",
              "      <th>abstract_inverted_index</th>\n",
              "    </tr>\n",
              "  </thead>\n",
              "  <tbody>\n",
              "  </tbody>\n",
              "</table>\n",
              "<p>0 rows × 25 columns</p>\n",
              "</div>\n",
              "      <button class=\"colab-df-convert\" onclick=\"convertToInteractive('df-9a12ef2b-44a3-49cf-9242-5e5874a80637')\"\n",
              "              title=\"Convert this dataframe to an interactive table.\"\n",
              "              style=\"display:none;\">\n",
              "        \n",
              "  <svg xmlns=\"http://www.w3.org/2000/svg\" height=\"24px\"viewBox=\"0 0 24 24\"\n",
              "       width=\"24px\">\n",
              "    <path d=\"M0 0h24v24H0V0z\" fill=\"none\"/>\n",
              "    <path d=\"M18.56 5.44l.94 2.06.94-2.06 2.06-.94-2.06-.94-.94-2.06-.94 2.06-2.06.94zm-11 1L8.5 8.5l.94-2.06 2.06-.94-2.06-.94L8.5 2.5l-.94 2.06-2.06.94zm10 10l.94 2.06.94-2.06 2.06-.94-2.06-.94-.94-2.06-.94 2.06-2.06.94z\"/><path d=\"M17.41 7.96l-1.37-1.37c-.4-.4-.92-.59-1.43-.59-.52 0-1.04.2-1.43.59L10.3 9.45l-7.72 7.72c-.78.78-.78 2.05 0 2.83L4 21.41c.39.39.9.59 1.41.59.51 0 1.02-.2 1.41-.59l7.78-7.78 2.81-2.81c.8-.78.8-2.07 0-2.86zM5.41 20L4 18.59l7.72-7.72 1.47 1.35L5.41 20z\"/>\n",
              "  </svg>\n",
              "      </button>\n",
              "      \n",
              "  <style>\n",
              "    .colab-df-container {\n",
              "      display:flex;\n",
              "      flex-wrap:wrap;\n",
              "      gap: 12px;\n",
              "    }\n",
              "\n",
              "    .colab-df-convert {\n",
              "      background-color: #E8F0FE;\n",
              "      border: none;\n",
              "      border-radius: 50%;\n",
              "      cursor: pointer;\n",
              "      display: none;\n",
              "      fill: #1967D2;\n",
              "      height: 32px;\n",
              "      padding: 0 0 0 0;\n",
              "      width: 32px;\n",
              "    }\n",
              "\n",
              "    .colab-df-convert:hover {\n",
              "      background-color: #E2EBFA;\n",
              "      box-shadow: 0px 1px 2px rgba(60, 64, 67, 0.3), 0px 1px 3px 1px rgba(60, 64, 67, 0.15);\n",
              "      fill: #174EA6;\n",
              "    }\n",
              "\n",
              "    [theme=dark] .colab-df-convert {\n",
              "      background-color: #3B4455;\n",
              "      fill: #D2E3FC;\n",
              "    }\n",
              "\n",
              "    [theme=dark] .colab-df-convert:hover {\n",
              "      background-color: #434B5C;\n",
              "      box-shadow: 0px 1px 3px 1px rgba(0, 0, 0, 0.15);\n",
              "      filter: drop-shadow(0px 1px 2px rgba(0, 0, 0, 0.3));\n",
              "      fill: #FFFFFF;\n",
              "    }\n",
              "  </style>\n",
              "\n",
              "      <script>\n",
              "        const buttonEl =\n",
              "          document.querySelector('#df-9a12ef2b-44a3-49cf-9242-5e5874a80637 button.colab-df-convert');\n",
              "        buttonEl.style.display =\n",
              "          google.colab.kernel.accessAllowed ? 'block' : 'none';\n",
              "\n",
              "        async function convertToInteractive(key) {\n",
              "          const element = document.querySelector('#df-9a12ef2b-44a3-49cf-9242-5e5874a80637');\n",
              "          const dataTable =\n",
              "            await google.colab.kernel.invokeFunction('convertToInteractive',\n",
              "                                                     [key], {});\n",
              "          if (!dataTable) return;\n",
              "\n",
              "          const docLinkHtml = 'Like what you see? Visit the ' +\n",
              "            '<a target=\"_blank\" href=https://colab.research.google.com/notebooks/data_table.ipynb>data table notebook</a>'\n",
              "            + ' to learn more about interactive tables.';\n",
              "          element.innerHTML = '';\n",
              "          dataTable['output_type'] = 'display_data';\n",
              "          await google.colab.output.renderOutput(dataTable, element);\n",
              "          const docLink = document.createElement('div');\n",
              "          docLink.innerHTML = docLinkHtml;\n",
              "          element.appendChild(docLink);\n",
              "        }\n",
              "      </script>\n",
              "    </div>\n",
              "  </div>\n",
              "  "
            ]
          },
          "metadata": {},
          "execution_count": 11
        }
      ]
    },
    {
      "cell_type": "code",
      "source": [
        "\n",
        "f=open('openalexua.json','w')\n",
        "json.dump(objeto,f)\n",
        "f.close()"
      ],
      "metadata": {
        "id": "WxZlWJSi2bNO"
      },
      "execution_count": null,
      "outputs": []
    },
    {
      "cell_type": "code",
      "source": [
        "\n",
        "x=set()\n",
        "type(x)"
      ],
      "metadata": {
        "id": "ldOuxLZTKkgW"
      },
      "execution_count": null,
      "outputs": []
    },
    {
      "cell_type": "code",
      "source": [
        "f=open('openalexua.json','r')\n",
        "df=json.load(f)\n",
        "f.close()"
      ],
      "metadata": {
        "id": "0ZV04Aph_g8l"
      },
      "execution_count": null,
      "outputs": []
    },
    {
      "cell_type": "markdown",
      "source": [
        "Filter author"
      ],
      "metadata": {
        "id": "scQyJsa0d2Ix"
      }
    },
    {
      "cell_type": "code",
      "source": [
        "objeto['authorships'].iloc[1]"
      ],
      "metadata": {
        "id": "MYSbFjSQd4Kv",
        "outputId": "e07cc074-6998-47de-e046-be905c8e1056",
        "colab": {
          "base_uri": "https://localhost:8080/"
        }
      },
      "execution_count": 9,
      "outputs": [
        {
          "output_type": "execute_result",
          "data": {
            "text/plain": [
              "[{'author_position': 'first',\n",
              "  'author': {'id': 'https://openalex.org/A4286489923',\n",
              "   'display_name': 'Edwin A. Alarcón',\n",
              "   'orcid': None},\n",
              "  'institutions': [{'id': 'https://openalex.org/I35961687',\n",
              "    'display_name': 'University of Antioquia',\n",
              "    'ror': 'https://ror.org/03bp5hc83',\n",
              "    'country_code': 'CO',\n",
              "    'type': 'education'}],\n",
              "  'raw_affiliation_string': 'Universidad de Antioquia, Chemical Engineering Department, Environmental Catalysis Research Group, Calle 70 No. 52-21, Medellín, Colombia'},\n",
              " {'author_position': 'last',\n",
              "  'author': {'id': 'https://openalex.org/A4286489924',\n",
              "   'display_name': 'Aída Luz Villa',\n",
              "   'orcid': None},\n",
              "  'institutions': [],\n",
              "  'raw_affiliation_string': None}]"
            ]
          },
          "metadata": {},
          "execution_count": 9
        }
      ]
    },
    {
      "cell_type": "code",
      "source": [
        "au_id='https://openalex.org/A2066982801'\n",
        "df=objeto[objeto['authorships'].apply(lambda l: any([ d.get('author').get('id')==au_id for d in l]))]\n",
        "df.shape"
      ],
      "metadata": {
        "id": "wy92UZfKd51f",
        "outputId": "9310237e-6c4a-449b-ffc4-03eba8a70430",
        "colab": {
          "base_uri": "https://localhost:8080/"
        }
      },
      "execution_count": 39,
      "outputs": [
        {
          "output_type": "execute_result",
          "data": {
            "text/plain": [
              "(24, 25)"
            ]
          },
          "metadata": {},
          "execution_count": 39
        }
      ]
    },
    {
      "cell_type": "code",
      "source": [
        "l=df['concepts'].apply(lambda l: [d.get('display_name') for d in l if d.get('level')==0 or d.get('level')==1]).to_list()\n",
        "set([item for subitem in l for item in subitem ])"
      ],
      "metadata": {
        "id": "rjaY0XWBeSVP",
        "outputId": "c35fb5d2-5dd7-4b67-ddf8-2bc7283905ef",
        "colab": {
          "base_uri": "https://localhost:8080/"
        }
      },
      "execution_count": 36,
      "outputs": [
        {
          "output_type": "execute_result",
          "data": {
            "text/plain": [
              "{'Algorithm',\n",
              " 'Artificial intelligence',\n",
              " 'Biochemistry',\n",
              " 'Bioinformatics',\n",
              " 'Biological system',\n",
              " 'Biology',\n",
              " 'Biophysics',\n",
              " 'Chemical physics',\n",
              " 'Chemistry',\n",
              " 'Combinatorial chemistry',\n",
              " 'Computational biology',\n",
              " 'Computational chemistry',\n",
              " 'Computer science',\n",
              " 'Condensed matter physics',\n",
              " 'Crystallography',\n",
              " 'Data mining',\n",
              " 'Data science',\n",
              " 'Genetics',\n",
              " 'Machine learning',\n",
              " 'Materials science',\n",
              " 'Molecular physics',\n",
              " 'Nanotechnology',\n",
              " 'Physics',\n",
              " 'Programming language',\n",
              " 'Statistical physics',\n",
              " 'Stereochemistry',\n",
              " 'Theoretical computer science'}"
            ]
          },
          "metadata": {},
          "execution_count": 36
        }
      ]
    },
    {
      "cell_type": "code",
      "source": [
        "l=df['concepts'].apply(lambda l: [d.get('display_name') for d in l if d.get('level')==1]).to_list()\n",
        "set([item for subitem in l for item in subitem ])"
      ],
      "metadata": {
        "id": "5amFC9Z4gIAJ",
        "outputId": "da00534e-e92e-4027-e11a-29511b5d6b0f",
        "colab": {
          "base_uri": "https://localhost:8080/"
        }
      },
      "execution_count": 37,
      "outputs": [
        {
          "output_type": "execute_result",
          "data": {
            "text/plain": [
              "{'Algorithm',\n",
              " 'Artificial intelligence',\n",
              " 'Biochemistry',\n",
              " 'Bioinformatics',\n",
              " 'Biological system',\n",
              " 'Biophysics',\n",
              " 'Chemical physics',\n",
              " 'Combinatorial chemistry',\n",
              " 'Computational biology',\n",
              " 'Computational chemistry',\n",
              " 'Condensed matter physics',\n",
              " 'Crystallography',\n",
              " 'Data mining',\n",
              " 'Data science',\n",
              " 'Genetics',\n",
              " 'Machine learning',\n",
              " 'Molecular physics',\n",
              " 'Nanotechnology',\n",
              " 'Programming language',\n",
              " 'Statistical physics',\n",
              " 'Stereochemistry',\n",
              " 'Theoretical computer science'}"
            ]
          },
          "metadata": {},
          "execution_count": 37
        }
      ]
    },
    {
      "cell_type": "code",
      "source": [
        "['Biophysics',\n",
        " 'Chemical physics',\n",
        " 'Molecular physics',\n",
        " 'Statistical physics',\n",
        "]"
      ],
      "metadata": {
        "id": "rpRiBw-ijFTU",
        "outputId": "fc7ff7d7-e0d6-4341-9aa1-91419d6b9f79",
        "colab": {
          "base_uri": "https://localhost:8080/"
        }
      },
      "execution_count": 38,
      "outputs": [
        {
          "output_type": "execute_result",
          "data": {
            "text/plain": [
              "['Biophysics', 'Chemical physics', 'Molecular physics', 'Statistical physics']"
            ]
          },
          "metadata": {},
          "execution_count": 38
        }
      ]
    },
    {
      "cell_type": "code",
      "source": [
        "df['concepts'].apply(lambda l: set([d.get('display_name') for d in l if d.get('level')==1 or d.get('display_name').find('Physics')>-1]).intersection(\n",
        "    ['Physics','Biophysics',\n",
        " 'Chemical physics',\n",
        " 'Molecular physics',\n",
        " 'Statistical physics',\n",
        " 'Computational biology'\n",
        "]\n",
        "   )).reset_index(drop=True)"
      ],
      "metadata": {
        "id": "52_EBmYOjUdt",
        "outputId": "9dc66462-85d1-449f-a24d-9b92a68c1d76",
        "colab": {
          "base_uri": "https://localhost:8080/"
        }
      },
      "execution_count": 75,
      "outputs": [
        {
          "output_type": "execute_result",
          "data": {
            "text/plain": [
              "0     {Molecular physics, Chemical physics, Statisti...\n",
              "1                                             {Physics}\n",
              "2                                                    {}\n",
              "3                               {Computational biology}\n",
              "4                               {Computational biology}\n",
              "5                               {Computational biology}\n",
              "6                               {Computational biology}\n",
              "7                               {Computational biology}\n",
              "8                               {Computational biology}\n",
              "9                               {Computational biology}\n",
              "10                                                   {}\n",
              "11                              {Computational biology}\n",
              "12                              {Computational biology}\n",
              "13                                                   {}\n",
              "14                              {Computational biology}\n",
              "15                                                   {}\n",
              "16                                                   {}\n",
              "17                              {Computational biology}\n",
              "18                                                   {}\n",
              "19                                                   {}\n",
              "20                                                   {}\n",
              "21                                   {Chemical physics}\n",
              "22                                         {Biophysics}\n",
              "23                                            {Physics}\n",
              "Name: concepts, dtype: object"
            ]
          },
          "metadata": {},
          "execution_count": 75
        }
      ]
    },
    {
      "cell_type": "code",
      "source": [
        "objeto[objeto['concepts'].apply(lambda l: set([d.get('display_name') for d in l if d.get('level')==1 #or d.get('display_name').find('Physics')>-1\n",
        "                                               ]\n",
        "                                              ).intersection(\n",
        "    ['Biophysics',\n",
        " 'Molecular physics',\n",
        "]\n",
        "   )).apply(len)>0]"
      ],
      "metadata": {
        "id": "O1WXO1hzjidt",
        "outputId": "77874a52-9370-4465-ae28-95560954e2a2",
        "colab": {
          "base_uri": "https://localhost:8080/",
          "height": 1000
        }
      },
      "execution_count": 87,
      "outputs": [
        {
          "output_type": "execute_result",
          "data": {
            "text/plain": [
              "                                     id  \\\n",
              "48     https://openalex.org/W4288712741   \n",
              "190    https://openalex.org/W4281974086   \n",
              "227    https://openalex.org/W4281258132   \n",
              "231    https://openalex.org/W4280619639   \n",
              "238    https://openalex.org/W4280611236   \n",
              "...                                 ...   \n",
              "32069  https://openalex.org/W2024928190   \n",
              "33214  https://openalex.org/W1967873519   \n",
              "34160  https://openalex.org/W2028126454   \n",
              "34161  https://openalex.org/W2091905081   \n",
              "34165  https://openalex.org/W2074476623   \n",
              "\n",
              "                                                doi  \\\n",
              "48                 https://doi.org/10.4028/p-gh5bxa   \n",
              "190    https://doi.org/10.1016/j.bioadv.2022.212967   \n",
              "227      https://doi.org/10.1007/s11082-022-03758-w   \n",
              "231       https://doi.org/10.3390/membranes12050534   \n",
              "238        https://doi.org/10.1021/acsomega.1c06515   \n",
              "...                                             ...   \n",
              "32069    https://doi.org/10.1088/0268-1242/14/6/302   \n",
              "33214  https://doi.org/10.1016/0014-2999(92)90310-z   \n",
              "34160       https://doi.org/10.1161/01.res.31.3.389   \n",
              "34161     https://doi.org/10.3109/00207457209147158   \n",
              "34165        https://doi.org/10.1038/newbio235158a0   \n",
              "\n",
              "                                                   title  \\\n",
              "48     Uncorrelated Excitonic Properties in Multilaye...   \n",
              "190    Viscoelastic properties of plasma-agarose hydr...   \n",
              "227    Shallow-donor impurity effects on the far infr...   \n",
              "231    Infrared Spectroscopic Study of Multi-Componen...   \n",
              "238    Cytotoxicity Assessment of Surface-Modified Ma...   \n",
              "...                                                  ...   \n",
              "32069  Theoretical study of the density of shallow-ac...   \n",
              "33214  Selective chiral inhibition of Ca2+ entry prom...   \n",
              "34160  Healing Over and Muscle Contraction in Toad He...   \n",
              "34161  Correlation Between Amplitudes and Rise Times ...   \n",
              "34165  Spreading activation of end-plate receptors by...   \n",
              "\n",
              "                                            display_name  publication_year  \\\n",
              "48     Uncorrelated Excitonic Properties in Multilaye...              2022   \n",
              "190    Viscoelastic properties of plasma-agarose hydr...              2022   \n",
              "227    Shallow-donor impurity effects on the far infr...              2022   \n",
              "231    Infrared Spectroscopic Study of Multi-Componen...              2022   \n",
              "238    Cytotoxicity Assessment of Surface-Modified Ma...              2022   \n",
              "...                                                  ...               ...   \n",
              "32069  Theoretical study of the density of shallow-ac...              1999   \n",
              "33214  Selective chiral inhibition of Ca2+ entry prom...              1992   \n",
              "34160  Healing Over and Muscle Contraction in Toad He...              1972   \n",
              "34161  Correlation Between Amplitudes and Rise Times ...              1972   \n",
              "34165  Spreading activation of end-plate receptors by...              1972   \n",
              "\n",
              "      publication_date                                                ids  \\\n",
              "48          2022-07-29  {'openalex': 'https://openalex.org/W4288712741...   \n",
              "190         2022-06-01  {'openalex': 'https://openalex.org/W4281974086...   \n",
              "227         2022-05-22  {'openalex': 'https://openalex.org/W4281258132...   \n",
              "231         2022-05-20  {'openalex': 'https://openalex.org/W4280619639...   \n",
              "238         2022-05-19  {'openalex': 'https://openalex.org/W4280611236...   \n",
              "...                ...                                                ...   \n",
              "32069       1999-06-01  {'openalex': 'https://openalex.org/W2024928190...   \n",
              "33214       1992-08-25  {'openalex': 'https://openalex.org/W1967873519...   \n",
              "34160       1972-09-01  {'openalex': 'https://openalex.org/W2028126454...   \n",
              "34161       1972-07-01  {'openalex': 'https://openalex.org/W2091905081...   \n",
              "34165       1972-02-02  {'openalex': 'https://openalex.org/W2074476623...   \n",
              "\n",
              "                                              host_venue             type  \\\n",
              "48     {'id': 'https://openalex.org/V187696258', 'iss...  journal-article   \n",
              "190    {'id': 'https://openalex.org/V4210239156', 'is...  journal-article   \n",
              "227    {'id': 'https://openalex.org/V133811445', 'iss...  journal-article   \n",
              "231    {'id': 'https://openalex.org/V4210225467', 'is...  journal-article   \n",
              "238    {'id': 'https://openalex.org/V4210239500', 'is...  journal-article   \n",
              "...                                                  ...              ...   \n",
              "32069  {'id': 'https://openalex.org/V106302738', 'iss...  journal-article   \n",
              "33214  {'id': 'https://openalex.org/V187816532', 'iss...  journal-article   \n",
              "34160  {'id': 'https://openalex.org/V10652568', 'issn...  journal-article   \n",
              "34161  {'id': 'https://openalex.org/V78190159', 'issn...  journal-article   \n",
              "34165  {'id': 'https://openalex.org/V137773608', 'iss...  journal-article   \n",
              "\n",
              "                                             open_access  ...  \\\n",
              "48     {'is_oa': False, 'oa_status': None, 'oa_url': ...  ...   \n",
              "190    {'is_oa': True, 'oa_status': 'hybrid', 'oa_url...  ...   \n",
              "227    {'is_oa': False, 'oa_status': 'closed', 'oa_ur...  ...   \n",
              "231    {'is_oa': True, 'oa_status': 'gold', 'oa_url':...  ...   \n",
              "238    {'is_oa': True, 'oa_status': 'gold', 'oa_url':...  ...   \n",
              "...                                                  ...  ...   \n",
              "32069  {'is_oa': False, 'oa_status': 'closed', 'oa_ur...  ...   \n",
              "33214  {'is_oa': False, 'oa_status': 'closed', 'oa_ur...  ...   \n",
              "34160  {'is_oa': True, 'oa_status': 'bronze', 'oa_url...  ...   \n",
              "34161  {'is_oa': False, 'oa_status': 'closed', 'oa_ur...  ...   \n",
              "34165  {'is_oa': False, 'oa_status': 'closed', 'oa_ur...  ...   \n",
              "\n",
              "                                                concepts  \\\n",
              "48     [{'id': 'https://openalex.org/C124657808', 'wi...   \n",
              "190    [{'id': 'https://openalex.org/C108586683', 'wi...   \n",
              "227    [{'id': 'https://openalex.org/C124657808', 'wi...   \n",
              "231    [{'id': 'https://openalex.org/C41625074', 'wik...   \n",
              "238    [{'id': 'https://openalex.org/C2777230088', 'w...   \n",
              "...                                                  ...   \n",
              "32069  [{'id': 'https://openalex.org/C2779892579', 'w...   \n",
              "33214  [{'id': 'https://openalex.org/C2776176026', 'w...   \n",
              "34160  [{'id': 'https://openalex.org/C2778166480', 'w...   \n",
              "34161  [{'id': 'https://openalex.org/C2777240379', 'w...   \n",
              "34165  [{'id': 'https://openalex.org/C12554922', 'wik...   \n",
              "\n",
              "                                                    mesh  \\\n",
              "48                                                    []   \n",
              "190    [{'descriptor_ui': 'D020100', 'descriptor_name...   \n",
              "227                                                   []   \n",
              "231                                                   []   \n",
              "238                                                   []   \n",
              "...                                                  ...   \n",
              "32069                                                 []   \n",
              "33214  [{'descriptor_ui': 'D000470', 'descriptor_name...   \n",
              "34160  [{'descriptor_ui': 'D006321', 'descriptor_name...   \n",
              "34161  [{'descriptor_ui': 'D000200', 'descriptor_name...   \n",
              "34165  [{'descriptor_ui': 'D009469', 'descriptor_name...   \n",
              "\n",
              "                                   alternate_host_venues  \\\n",
              "48                                                    []   \n",
              "190    [{'id': 'https://openalex.org/V4210239156', 'd...   \n",
              "227                                                   []   \n",
              "231    [{'id': 'https://openalex.org/V4210225467', 'd...   \n",
              "238    [{'id': 'https://openalex.org/V4210239500', 'd...   \n",
              "...                                                  ...   \n",
              "32069                                                 []   \n",
              "33214                                                 []   \n",
              "34160  [{'id': 'https://openalex.org/V10652568', 'dis...   \n",
              "34161                                                 []   \n",
              "34165                                                 []   \n",
              "\n",
              "                                        referenced_works  \\\n",
              "48     [https://openalex.org/W30010175, https://opena...   \n",
              "190    [https://openalex.org/W2003729795, https://ope...   \n",
              "227    [https://openalex.org/W945548251, https://open...   \n",
              "231    [https://openalex.org/W28854146, https://opena...   \n",
              "238    [https://openalex.org/W1579782115, https://ope...   \n",
              "...                                                  ...   \n",
              "32069  [https://openalex.org/W1966389466, https://ope...   \n",
              "33214  [https://openalex.org/W1524998338, https://ope...   \n",
              "34160  [https://openalex.org/W1721015853, https://ope...   \n",
              "34161  [https://openalex.org/W96749712, https://opena...   \n",
              "34165  [https://openalex.org/W2098610365, https://ope...   \n",
              "\n",
              "                                           related_works  \\\n",
              "48     [https://openalex.org/W142829, https://openale...   \n",
              "190    [https://openalex.org/W1545117257, https://ope...   \n",
              "227    [https://openalex.org/W3828417, https://openal...   \n",
              "231    [https://openalex.org/W4828911, https://openal...   \n",
              "238    [https://openalex.org/W11361684, https://opena...   \n",
              "...                                                  ...   \n",
              "32069  [https://openalex.org/W1569904093, https://ope...   \n",
              "33214  [https://openalex.org/W1980974529, https://ope...   \n",
              "34160  [https://openalex.org/W310568985, https://open...   \n",
              "34161  [https://openalex.org/W38511128, https://opena...   \n",
              "34165  [https://openalex.org/W2111576175, https://ope...   \n",
              "\n",
              "                                        cited_by_api_url  \\\n",
              "48     https://api.openalex.org/works?filter=cites:W4...   \n",
              "190    https://api.openalex.org/works?filter=cites:W4...   \n",
              "227    https://api.openalex.org/works?filter=cites:W4...   \n",
              "231    https://api.openalex.org/works?filter=cites:W4...   \n",
              "238    https://api.openalex.org/works?filter=cites:W4...   \n",
              "...                                                  ...   \n",
              "32069  https://api.openalex.org/works?filter=cites:W2...   \n",
              "33214  https://api.openalex.org/works?filter=cites:W1...   \n",
              "34160  https://api.openalex.org/works?filter=cites:W2...   \n",
              "34161  https://api.openalex.org/works?filter=cites:W2...   \n",
              "34165  https://api.openalex.org/works?filter=cites:W2...   \n",
              "\n",
              "                                          counts_by_year  \\\n",
              "48                                                    []   \n",
              "190                [{'year': 2022, 'cited_by_count': 1}]   \n",
              "227                                                   []   \n",
              "231                [{'year': 2022, 'cited_by_count': 1}]   \n",
              "238                                                   []   \n",
              "...                                                  ...   \n",
              "32069              [{'year': 2014, 'cited_by_count': 1}]   \n",
              "33214  [{'year': 2020, 'cited_by_count': 1}, {'year':...   \n",
              "34160              [{'year': 2015, 'cited_by_count': 1}]   \n",
              "34161  [{'year': 2018, 'cited_by_count': 2}, {'year':...   \n",
              "34165                                                 []   \n",
              "\n",
              "                     updated_date created_date abstract_inverted_index  \n",
              "48     2022-07-30T12:25:38.793882   2022-07-30                     NaN  \n",
              "190    2022-08-12T14:02:38.872994   2022-06-13                     NaN  \n",
              "227    2022-07-08T14:55:29.277828   2022-05-23                     NaN  \n",
              "231    2022-07-20T06:16:02.421620   2022-05-22                     NaN  \n",
              "238    2022-07-20T06:18:48.038986   2022-05-22                     NaN  \n",
              "...                           ...          ...                     ...  \n",
              "32069  2022-08-02T03:02:28.074175   2016-06-24                     NaN  \n",
              "33214                  2022-06-26   2016-06-24                     NaN  \n",
              "34160  2022-08-16T07:49:40.642047   2016-06-24                     NaN  \n",
              "34161  2022-07-29T19:03:57.683004   2016-06-24                     NaN  \n",
              "34165                  2021-11-03   2016-06-24                     NaN  \n",
              "\n",
              "[172 rows x 25 columns]"
            ],
            "text/html": [
              "\n",
              "  <div id=\"df-61c787ed-fc68-42bc-a002-91eed8c641f9\">\n",
              "    <div class=\"colab-df-container\">\n",
              "      <div>\n",
              "<style scoped>\n",
              "    .dataframe tbody tr th:only-of-type {\n",
              "        vertical-align: middle;\n",
              "    }\n",
              "\n",
              "    .dataframe tbody tr th {\n",
              "        vertical-align: top;\n",
              "    }\n",
              "\n",
              "    .dataframe thead th {\n",
              "        text-align: right;\n",
              "    }\n",
              "</style>\n",
              "<table border=\"1\" class=\"dataframe\">\n",
              "  <thead>\n",
              "    <tr style=\"text-align: right;\">\n",
              "      <th></th>\n",
              "      <th>id</th>\n",
              "      <th>doi</th>\n",
              "      <th>title</th>\n",
              "      <th>display_name</th>\n",
              "      <th>publication_year</th>\n",
              "      <th>publication_date</th>\n",
              "      <th>ids</th>\n",
              "      <th>host_venue</th>\n",
              "      <th>type</th>\n",
              "      <th>open_access</th>\n",
              "      <th>...</th>\n",
              "      <th>concepts</th>\n",
              "      <th>mesh</th>\n",
              "      <th>alternate_host_venues</th>\n",
              "      <th>referenced_works</th>\n",
              "      <th>related_works</th>\n",
              "      <th>cited_by_api_url</th>\n",
              "      <th>counts_by_year</th>\n",
              "      <th>updated_date</th>\n",
              "      <th>created_date</th>\n",
              "      <th>abstract_inverted_index</th>\n",
              "    </tr>\n",
              "  </thead>\n",
              "  <tbody>\n",
              "    <tr>\n",
              "      <th>48</th>\n",
              "      <td>https://openalex.org/W4288712741</td>\n",
              "      <td>https://doi.org/10.4028/p-gh5bxa</td>\n",
              "      <td>Uncorrelated Excitonic Properties in Multilaye...</td>\n",
              "      <td>Uncorrelated Excitonic Properties in Multilaye...</td>\n",
              "      <td>2022</td>\n",
              "      <td>2022-07-29</td>\n",
              "      <td>{'openalex': 'https://openalex.org/W4288712741...</td>\n",
              "      <td>{'id': 'https://openalex.org/V187696258', 'iss...</td>\n",
              "      <td>journal-article</td>\n",
              "      <td>{'is_oa': False, 'oa_status': None, 'oa_url': ...</td>\n",
              "      <td>...</td>\n",
              "      <td>[{'id': 'https://openalex.org/C124657808', 'wi...</td>\n",
              "      <td>[]</td>\n",
              "      <td>[]</td>\n",
              "      <td>[https://openalex.org/W30010175, https://opena...</td>\n",
              "      <td>[https://openalex.org/W142829, https://openale...</td>\n",
              "      <td>https://api.openalex.org/works?filter=cites:W4...</td>\n",
              "      <td>[]</td>\n",
              "      <td>2022-07-30T12:25:38.793882</td>\n",
              "      <td>2022-07-30</td>\n",
              "      <td>NaN</td>\n",
              "    </tr>\n",
              "    <tr>\n",
              "      <th>190</th>\n",
              "      <td>https://openalex.org/W4281974086</td>\n",
              "      <td>https://doi.org/10.1016/j.bioadv.2022.212967</td>\n",
              "      <td>Viscoelastic properties of plasma-agarose hydr...</td>\n",
              "      <td>Viscoelastic properties of plasma-agarose hydr...</td>\n",
              "      <td>2022</td>\n",
              "      <td>2022-06-01</td>\n",
              "      <td>{'openalex': 'https://openalex.org/W4281974086...</td>\n",
              "      <td>{'id': 'https://openalex.org/V4210239156', 'is...</td>\n",
              "      <td>journal-article</td>\n",
              "      <td>{'is_oa': True, 'oa_status': 'hybrid', 'oa_url...</td>\n",
              "      <td>...</td>\n",
              "      <td>[{'id': 'https://openalex.org/C108586683', 'wi...</td>\n",
              "      <td>[{'descriptor_ui': 'D020100', 'descriptor_name...</td>\n",
              "      <td>[{'id': 'https://openalex.org/V4210239156', 'd...</td>\n",
              "      <td>[https://openalex.org/W2003729795, https://ope...</td>\n",
              "      <td>[https://openalex.org/W1545117257, https://ope...</td>\n",
              "      <td>https://api.openalex.org/works?filter=cites:W4...</td>\n",
              "      <td>[{'year': 2022, 'cited_by_count': 1}]</td>\n",
              "      <td>2022-08-12T14:02:38.872994</td>\n",
              "      <td>2022-06-13</td>\n",
              "      <td>NaN</td>\n",
              "    </tr>\n",
              "    <tr>\n",
              "      <th>227</th>\n",
              "      <td>https://openalex.org/W4281258132</td>\n",
              "      <td>https://doi.org/10.1007/s11082-022-03758-w</td>\n",
              "      <td>Shallow-donor impurity effects on the far infr...</td>\n",
              "      <td>Shallow-donor impurity effects on the far infr...</td>\n",
              "      <td>2022</td>\n",
              "      <td>2022-05-22</td>\n",
              "      <td>{'openalex': 'https://openalex.org/W4281258132...</td>\n",
              "      <td>{'id': 'https://openalex.org/V133811445', 'iss...</td>\n",
              "      <td>journal-article</td>\n",
              "      <td>{'is_oa': False, 'oa_status': 'closed', 'oa_ur...</td>\n",
              "      <td>...</td>\n",
              "      <td>[{'id': 'https://openalex.org/C124657808', 'wi...</td>\n",
              "      <td>[]</td>\n",
              "      <td>[]</td>\n",
              "      <td>[https://openalex.org/W945548251, https://open...</td>\n",
              "      <td>[https://openalex.org/W3828417, https://openal...</td>\n",
              "      <td>https://api.openalex.org/works?filter=cites:W4...</td>\n",
              "      <td>[]</td>\n",
              "      <td>2022-07-08T14:55:29.277828</td>\n",
              "      <td>2022-05-23</td>\n",
              "      <td>NaN</td>\n",
              "    </tr>\n",
              "    <tr>\n",
              "      <th>231</th>\n",
              "      <td>https://openalex.org/W4280619639</td>\n",
              "      <td>https://doi.org/10.3390/membranes12050534</td>\n",
              "      <td>Infrared Spectroscopic Study of Multi-Componen...</td>\n",
              "      <td>Infrared Spectroscopic Study of Multi-Componen...</td>\n",
              "      <td>2022</td>\n",
              "      <td>2022-05-20</td>\n",
              "      <td>{'openalex': 'https://openalex.org/W4280619639...</td>\n",
              "      <td>{'id': 'https://openalex.org/V4210225467', 'is...</td>\n",
              "      <td>journal-article</td>\n",
              "      <td>{'is_oa': True, 'oa_status': 'gold', 'oa_url':...</td>\n",
              "      <td>...</td>\n",
              "      <td>[{'id': 'https://openalex.org/C41625074', 'wik...</td>\n",
              "      <td>[]</td>\n",
              "      <td>[{'id': 'https://openalex.org/V4210225467', 'd...</td>\n",
              "      <td>[https://openalex.org/W28854146, https://opena...</td>\n",
              "      <td>[https://openalex.org/W4828911, https://openal...</td>\n",
              "      <td>https://api.openalex.org/works?filter=cites:W4...</td>\n",
              "      <td>[{'year': 2022, 'cited_by_count': 1}]</td>\n",
              "      <td>2022-07-20T06:16:02.421620</td>\n",
              "      <td>2022-05-22</td>\n",
              "      <td>NaN</td>\n",
              "    </tr>\n",
              "    <tr>\n",
              "      <th>238</th>\n",
              "      <td>https://openalex.org/W4280611236</td>\n",
              "      <td>https://doi.org/10.1021/acsomega.1c06515</td>\n",
              "      <td>Cytotoxicity Assessment of Surface-Modified Ma...</td>\n",
              "      <td>Cytotoxicity Assessment of Surface-Modified Ma...</td>\n",
              "      <td>2022</td>\n",
              "      <td>2022-05-19</td>\n",
              "      <td>{'openalex': 'https://openalex.org/W4280611236...</td>\n",
              "      <td>{'id': 'https://openalex.org/V4210239500', 'is...</td>\n",
              "      <td>journal-article</td>\n",
              "      <td>{'is_oa': True, 'oa_status': 'gold', 'oa_url':...</td>\n",
              "      <td>...</td>\n",
              "      <td>[{'id': 'https://openalex.org/C2777230088', 'w...</td>\n",
              "      <td>[]</td>\n",
              "      <td>[{'id': 'https://openalex.org/V4210239500', 'd...</td>\n",
              "      <td>[https://openalex.org/W1579782115, https://ope...</td>\n",
              "      <td>[https://openalex.org/W11361684, https://opena...</td>\n",
              "      <td>https://api.openalex.org/works?filter=cites:W4...</td>\n",
              "      <td>[]</td>\n",
              "      <td>2022-07-20T06:18:48.038986</td>\n",
              "      <td>2022-05-22</td>\n",
              "      <td>NaN</td>\n",
              "    </tr>\n",
              "    <tr>\n",
              "      <th>...</th>\n",
              "      <td>...</td>\n",
              "      <td>...</td>\n",
              "      <td>...</td>\n",
              "      <td>...</td>\n",
              "      <td>...</td>\n",
              "      <td>...</td>\n",
              "      <td>...</td>\n",
              "      <td>...</td>\n",
              "      <td>...</td>\n",
              "      <td>...</td>\n",
              "      <td>...</td>\n",
              "      <td>...</td>\n",
              "      <td>...</td>\n",
              "      <td>...</td>\n",
              "      <td>...</td>\n",
              "      <td>...</td>\n",
              "      <td>...</td>\n",
              "      <td>...</td>\n",
              "      <td>...</td>\n",
              "      <td>...</td>\n",
              "      <td>...</td>\n",
              "    </tr>\n",
              "    <tr>\n",
              "      <th>32069</th>\n",
              "      <td>https://openalex.org/W2024928190</td>\n",
              "      <td>https://doi.org/10.1088/0268-1242/14/6/302</td>\n",
              "      <td>Theoretical study of the density of shallow-ac...</td>\n",
              "      <td>Theoretical study of the density of shallow-ac...</td>\n",
              "      <td>1999</td>\n",
              "      <td>1999-06-01</td>\n",
              "      <td>{'openalex': 'https://openalex.org/W2024928190...</td>\n",
              "      <td>{'id': 'https://openalex.org/V106302738', 'iss...</td>\n",
              "      <td>journal-article</td>\n",
              "      <td>{'is_oa': False, 'oa_status': 'closed', 'oa_ur...</td>\n",
              "      <td>...</td>\n",
              "      <td>[{'id': 'https://openalex.org/C2779892579', 'w...</td>\n",
              "      <td>[]</td>\n",
              "      <td>[]</td>\n",
              "      <td>[https://openalex.org/W1966389466, https://ope...</td>\n",
              "      <td>[https://openalex.org/W1569904093, https://ope...</td>\n",
              "      <td>https://api.openalex.org/works?filter=cites:W2...</td>\n",
              "      <td>[{'year': 2014, 'cited_by_count': 1}]</td>\n",
              "      <td>2022-08-02T03:02:28.074175</td>\n",
              "      <td>2016-06-24</td>\n",
              "      <td>NaN</td>\n",
              "    </tr>\n",
              "    <tr>\n",
              "      <th>33214</th>\n",
              "      <td>https://openalex.org/W1967873519</td>\n",
              "      <td>https://doi.org/10.1016/0014-2999(92)90310-z</td>\n",
              "      <td>Selective chiral inhibition of Ca2+ entry prom...</td>\n",
              "      <td>Selective chiral inhibition of Ca2+ entry prom...</td>\n",
              "      <td>1992</td>\n",
              "      <td>1992-08-25</td>\n",
              "      <td>{'openalex': 'https://openalex.org/W1967873519...</td>\n",
              "      <td>{'id': 'https://openalex.org/V187816532', 'iss...</td>\n",
              "      <td>journal-article</td>\n",
              "      <td>{'is_oa': False, 'oa_status': 'closed', 'oa_ur...</td>\n",
              "      <td>...</td>\n",
              "      <td>[{'id': 'https://openalex.org/C2776176026', 'w...</td>\n",
              "      <td>[{'descriptor_ui': 'D000470', 'descriptor_name...</td>\n",
              "      <td>[]</td>\n",
              "      <td>[https://openalex.org/W1524998338, https://ope...</td>\n",
              "      <td>[https://openalex.org/W1980974529, https://ope...</td>\n",
              "      <td>https://api.openalex.org/works?filter=cites:W1...</td>\n",
              "      <td>[{'year': 2020, 'cited_by_count': 1}, {'year':...</td>\n",
              "      <td>2022-06-26</td>\n",
              "      <td>2016-06-24</td>\n",
              "      <td>NaN</td>\n",
              "    </tr>\n",
              "    <tr>\n",
              "      <th>34160</th>\n",
              "      <td>https://openalex.org/W2028126454</td>\n",
              "      <td>https://doi.org/10.1161/01.res.31.3.389</td>\n",
              "      <td>Healing Over and Muscle Contraction in Toad He...</td>\n",
              "      <td>Healing Over and Muscle Contraction in Toad He...</td>\n",
              "      <td>1972</td>\n",
              "      <td>1972-09-01</td>\n",
              "      <td>{'openalex': 'https://openalex.org/W2028126454...</td>\n",
              "      <td>{'id': 'https://openalex.org/V10652568', 'issn...</td>\n",
              "      <td>journal-article</td>\n",
              "      <td>{'is_oa': True, 'oa_status': 'bronze', 'oa_url...</td>\n",
              "      <td>...</td>\n",
              "      <td>[{'id': 'https://openalex.org/C2778166480', 'w...</td>\n",
              "      <td>[{'descriptor_ui': 'D006321', 'descriptor_name...</td>\n",
              "      <td>[{'id': 'https://openalex.org/V10652568', 'dis...</td>\n",
              "      <td>[https://openalex.org/W1721015853, https://ope...</td>\n",
              "      <td>[https://openalex.org/W310568985, https://open...</td>\n",
              "      <td>https://api.openalex.org/works?filter=cites:W2...</td>\n",
              "      <td>[{'year': 2015, 'cited_by_count': 1}]</td>\n",
              "      <td>2022-08-16T07:49:40.642047</td>\n",
              "      <td>2016-06-24</td>\n",
              "      <td>NaN</td>\n",
              "    </tr>\n",
              "    <tr>\n",
              "      <th>34161</th>\n",
              "      <td>https://openalex.org/W2091905081</td>\n",
              "      <td>https://doi.org/10.3109/00207457209147158</td>\n",
              "      <td>Correlation Between Amplitudes and Rise Times ...</td>\n",
              "      <td>Correlation Between Amplitudes and Rise Times ...</td>\n",
              "      <td>1972</td>\n",
              "      <td>1972-07-01</td>\n",
              "      <td>{'openalex': 'https://openalex.org/W2091905081...</td>\n",
              "      <td>{'id': 'https://openalex.org/V78190159', 'issn...</td>\n",
              "      <td>journal-article</td>\n",
              "      <td>{'is_oa': False, 'oa_status': 'closed', 'oa_ur...</td>\n",
              "      <td>...</td>\n",
              "      <td>[{'id': 'https://openalex.org/C2777240379', 'w...</td>\n",
              "      <td>[{'descriptor_ui': 'D000200', 'descriptor_name...</td>\n",
              "      <td>[]</td>\n",
              "      <td>[https://openalex.org/W96749712, https://opena...</td>\n",
              "      <td>[https://openalex.org/W38511128, https://opena...</td>\n",
              "      <td>https://api.openalex.org/works?filter=cites:W2...</td>\n",
              "      <td>[{'year': 2018, 'cited_by_count': 2}, {'year':...</td>\n",
              "      <td>2022-07-29T19:03:57.683004</td>\n",
              "      <td>2016-06-24</td>\n",
              "      <td>NaN</td>\n",
              "    </tr>\n",
              "    <tr>\n",
              "      <th>34165</th>\n",
              "      <td>https://openalex.org/W2074476623</td>\n",
              "      <td>https://doi.org/10.1038/newbio235158a0</td>\n",
              "      <td>Spreading activation of end-plate receptors by...</td>\n",
              "      <td>Spreading activation of end-plate receptors by...</td>\n",
              "      <td>1972</td>\n",
              "      <td>1972-02-02</td>\n",
              "      <td>{'openalex': 'https://openalex.org/W2074476623...</td>\n",
              "      <td>{'id': 'https://openalex.org/V137773608', 'iss...</td>\n",
              "      <td>journal-article</td>\n",
              "      <td>{'is_oa': False, 'oa_status': 'closed', 'oa_ur...</td>\n",
              "      <td>...</td>\n",
              "      <td>[{'id': 'https://openalex.org/C12554922', 'wik...</td>\n",
              "      <td>[{'descriptor_ui': 'D009469', 'descriptor_name...</td>\n",
              "      <td>[]</td>\n",
              "      <td>[https://openalex.org/W2098610365, https://ope...</td>\n",
              "      <td>[https://openalex.org/W2111576175, https://ope...</td>\n",
              "      <td>https://api.openalex.org/works?filter=cites:W2...</td>\n",
              "      <td>[]</td>\n",
              "      <td>2021-11-03</td>\n",
              "      <td>2016-06-24</td>\n",
              "      <td>NaN</td>\n",
              "    </tr>\n",
              "  </tbody>\n",
              "</table>\n",
              "<p>172 rows × 25 columns</p>\n",
              "</div>\n",
              "      <button class=\"colab-df-convert\" onclick=\"convertToInteractive('df-61c787ed-fc68-42bc-a002-91eed8c641f9')\"\n",
              "              title=\"Convert this dataframe to an interactive table.\"\n",
              "              style=\"display:none;\">\n",
              "        \n",
              "  <svg xmlns=\"http://www.w3.org/2000/svg\" height=\"24px\"viewBox=\"0 0 24 24\"\n",
              "       width=\"24px\">\n",
              "    <path d=\"M0 0h24v24H0V0z\" fill=\"none\"/>\n",
              "    <path d=\"M18.56 5.44l.94 2.06.94-2.06 2.06-.94-2.06-.94-.94-2.06-.94 2.06-2.06.94zm-11 1L8.5 8.5l.94-2.06 2.06-.94-2.06-.94L8.5 2.5l-.94 2.06-2.06.94zm10 10l.94 2.06.94-2.06 2.06-.94-2.06-.94-.94-2.06-.94 2.06-2.06.94z\"/><path d=\"M17.41 7.96l-1.37-1.37c-.4-.4-.92-.59-1.43-.59-.52 0-1.04.2-1.43.59L10.3 9.45l-7.72 7.72c-.78.78-.78 2.05 0 2.83L4 21.41c.39.39.9.59 1.41.59.51 0 1.02-.2 1.41-.59l7.78-7.78 2.81-2.81c.8-.78.8-2.07 0-2.86zM5.41 20L4 18.59l7.72-7.72 1.47 1.35L5.41 20z\"/>\n",
              "  </svg>\n",
              "      </button>\n",
              "      \n",
              "  <style>\n",
              "    .colab-df-container {\n",
              "      display:flex;\n",
              "      flex-wrap:wrap;\n",
              "      gap: 12px;\n",
              "    }\n",
              "\n",
              "    .colab-df-convert {\n",
              "      background-color: #E8F0FE;\n",
              "      border: none;\n",
              "      border-radius: 50%;\n",
              "      cursor: pointer;\n",
              "      display: none;\n",
              "      fill: #1967D2;\n",
              "      height: 32px;\n",
              "      padding: 0 0 0 0;\n",
              "      width: 32px;\n",
              "    }\n",
              "\n",
              "    .colab-df-convert:hover {\n",
              "      background-color: #E2EBFA;\n",
              "      box-shadow: 0px 1px 2px rgba(60, 64, 67, 0.3), 0px 1px 3px 1px rgba(60, 64, 67, 0.15);\n",
              "      fill: #174EA6;\n",
              "    }\n",
              "\n",
              "    [theme=dark] .colab-df-convert {\n",
              "      background-color: #3B4455;\n",
              "      fill: #D2E3FC;\n",
              "    }\n",
              "\n",
              "    [theme=dark] .colab-df-convert:hover {\n",
              "      background-color: #434B5C;\n",
              "      box-shadow: 0px 1px 3px 1px rgba(0, 0, 0, 0.15);\n",
              "      filter: drop-shadow(0px 1px 2px rgba(0, 0, 0, 0.3));\n",
              "      fill: #FFFFFF;\n",
              "    }\n",
              "  </style>\n",
              "\n",
              "      <script>\n",
              "        const buttonEl =\n",
              "          document.querySelector('#df-61c787ed-fc68-42bc-a002-91eed8c641f9 button.colab-df-convert');\n",
              "        buttonEl.style.display =\n",
              "          google.colab.kernel.accessAllowed ? 'block' : 'none';\n",
              "\n",
              "        async function convertToInteractive(key) {\n",
              "          const element = document.querySelector('#df-61c787ed-fc68-42bc-a002-91eed8c641f9');\n",
              "          const dataTable =\n",
              "            await google.colab.kernel.invokeFunction('convertToInteractive',\n",
              "                                                     [key], {});\n",
              "          if (!dataTable) return;\n",
              "\n",
              "          const docLinkHtml = 'Like what you see? Visit the ' +\n",
              "            '<a target=\"_blank\" href=https://colab.research.google.com/notebooks/data_table.ipynb>data table notebook</a>'\n",
              "            + ' to learn more about interactive tables.';\n",
              "          element.innerHTML = '';\n",
              "          dataTable['output_type'] = 'display_data';\n",
              "          await google.colab.output.renderOutput(dataTable, element);\n",
              "          const docLink = document.createElement('div');\n",
              "          docLink.innerHTML = docLinkHtml;\n",
              "          element.appendChild(docLink);\n",
              "        }\n",
              "      </script>\n",
              "    </div>\n",
              "  </div>\n",
              "  "
            ]
          },
          "metadata": {},
          "execution_count": 87
        }
      ]
    },
    {
      "cell_type": "code",
      "source": [
        "Çdf.concepts.iloc[20]"
      ],
      "metadata": {
        "id": "Lf_SM_xCkDYG",
        "outputId": "7455adee-f270-43ab-9ae9-f3f35da1796d",
        "colab": {
          "base_uri": "https://localhost:8080/"
        }
      },
      "execution_count": 74,
      "outputs": [
        {
          "output_type": "execute_result",
          "data": {
            "text/plain": [
              "[{'id': 'https://openalex.org/C154945302',\n",
              "  'wikidata': 'https://www.wikidata.org/wiki/Q11660',\n",
              "  'display_name': 'Artificial intelligence',\n",
              "  'level': 1,\n",
              "  'score': '0.41079968'},\n",
              " {'id': 'https://openalex.org/C75806775',\n",
              "  'wikidata': 'https://www.wikidata.org/wiki/Q5358194',\n",
              "  'display_name': 'Electron tomography',\n",
              "  'level': 4,\n",
              "  'score': '0.40721047'},\n",
              " {'id': 'https://openalex.org/C20702342',\n",
              "  'wikidata': 'https://www.wikidata.org/wiki/Q5190506',\n",
              "  'display_name': 'Cryo-electron microscopy',\n",
              "  'level': 2,\n",
              "  'score': '0.40552735'},\n",
              " {'id': 'https://openalex.org/C193016168',\n",
              "  'wikidata': 'https://www.wikidata.org/wiki/Q874835',\n",
              "  'display_name': 'Scanning transmission electron microscopy',\n",
              "  'level': 3,\n",
              "  'score': '0.3849336'},\n",
              " {'id': 'https://openalex.org/C186060115',\n",
              "  'wikidata': 'https://www.wikidata.org/wiki/Q30336093',\n",
              "  'display_name': 'Biological system',\n",
              "  'level': 1,\n",
              "  'score': '0.3525777'},\n",
              " {'id': 'https://openalex.org/C153180895',\n",
              "  'wikidata': 'https://www.wikidata.org/wiki/Q7148389',\n",
              "  'display_name': 'Pattern recognition (psychology)',\n",
              "  'level': 2,\n",
              "  'score': '0.34317'},\n",
              " {'id': 'https://openalex.org/C138268822',\n",
              "  'wikidata': 'https://www.wikidata.org/wiki/Q1051925',\n",
              "  'display_name': 'Resolution (logic)',\n",
              "  'level': 2,\n",
              "  'score': '0.33337712'},\n",
              " {'id': 'https://openalex.org/C192562407',\n",
              "  'wikidata': 'https://www.wikidata.org/wiki/Q228736',\n",
              "  'display_name': 'Materials science',\n",
              "  'level': 0,\n",
              "  'score': '0.3252095'}]"
            ]
          },
          "metadata": {},
          "execution_count": 74
        }
      ]
    },
    {
      "cell_type": "code",
      "source": [],
      "metadata": {
        "id": "1WAQpKVQn7LF"
      },
      "execution_count": null,
      "outputs": []
    },
    {
      "cell_type": "code",
      "source": [],
      "metadata": {
        "id": "zHkApyh_n7h8"
      },
      "execution_count": null,
      "outputs": []
    },
    {
      "cell_type": "code",
      "source": [],
      "metadata": {
        "id": "8gCzpmiQn7tk"
      },
      "execution_count": null,
      "outputs": []
    },
    {
      "cell_type": "code",
      "source": [],
      "metadata": {
        "id": "Zi2KdbxJn8A6"
      },
      "execution_count": null,
      "outputs": []
    },
    {
      "cell_type": "code",
      "source": [],
      "metadata": {
        "id": "JSHsjt_ln8W-"
      },
      "execution_count": null,
      "outputs": []
    },
    {
      "cell_type": "code",
      "source": [],
      "metadata": {
        "id": "v-iRb2NVk4jX"
      },
      "execution_count": null,
      "outputs": []
    }
  ]
}